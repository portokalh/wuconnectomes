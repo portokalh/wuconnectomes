{
 "cells": [
  {
   "cell_type": "code",
   "execution_count": 16,
   "metadata": {},
   "outputs": [],
   "source": [
    "import numpy as np\n",
    "import copy\n",
    "from nibabel import trackvis as tv\n",
    "from dipy.tracking.streamline import Streamlines\n",
    "from dipy.segment.clustering import QuickBundles\n",
    "from dipy.io.pickles import save_pickle\n",
    "from dipy.data import get_fnames\n",
    "import vtk\n",
    "from dipy.viz import window, actor\n",
    "from dipy.tracking.streamline import Streamlines\n",
    "from dipy.io.streamline import load_trk, save_trk\n",
    "from dipy.segment.metric import ResampleFeature, AveragePointwiseEuclideanMetric\n",
    "from dipy.io.image import load_nifti\n",
    "from dipy.tracking import utils\n",
    "from dipy.viz import window, actor\n",
    "from time import sleep\n",
    "from dipy.data import two_cingulum_bundles\n",
    "from dipy.align.streamlinear import StreamlineLinearRegistration\n",
    "from dipy.tracking.streamline import set_number_of_points"
   ]
  },
  {
   "cell_type": "code",
   "execution_count": 17,
   "metadata": {},
   "outputs": [],
   "source": [
    "def show_both_bundles(bundles, colors=None, show=True, fname=None):\n",
    "\n",
    "    ren = window.Renderer()\n",
    "    ren.SetBackground(1., 1, 1)\n",
    "    for (i, bundle) in enumerate(bundles):\n",
    "        color = colors[i]\n",
    "        lines_actor = actor.streamtube(bundle, color, linewidth=0.05)\n",
    "        #lines_actor.RotateX(-90)\n",
    "        #lines_actor.RotateZ(90)\n",
    "        ren.add(lines_actor)\n",
    "    if show:\n",
    "        window.show(ren)\n",
    "    if fname is not None:\n",
    "        sleep(1)\n",
    "        window.record(ren, n_frames=1, out_path=fname, size=(900, 900))"
   ]
  },
  {
   "cell_type": "code",
   "execution_count": 30,
   "metadata": {},
   "outputs": [],
   "source": [
    "#indicate the ROIs interested, note target_l>target_r\n",
    "target_l = 51\n",
    "target_r = 1051"
   ]
  },
  {
   "cell_type": "code",
   "execution_count": 31,
   "metadata": {},
   "outputs": [],
   "source": [
    "#general information\n",
    "l = ['N54717','N54718','N54719','N54720','N54722','N54759','N54760','N54761','N54762','N54763','N54764','N54765','N54766','N54770','N54771','N54772','N54798','N54801','N54802','N54803','N54804','N54805','N54806','N54807','N54818','N54824','N54825','N54826','N54837','N54838','N54843','N54844','N54856','N54857','N54858','N54859','N54860','N54861','N54873','N54874','N54875','N54876','N54877','N54879','N54880','N54891','N54892','N54893','N54897','N54898','N54899','N54900','N54915','N54916','N54917']\n",
    "gen4idx = [1,2,3,4,7,8,9,10,12,13,52,53,54]\n",
    "gen3idx = [14,15,16,17,18,19,30,21,22,23]\n",
    "gen4selectidx = [2, 3, 7, 8, 9, 10, 13, 52, 53, 54]\n",
    "gen4 = [l[i] for i in gen4selectidx]\n",
    "gen3 = [l[j] for j in gen3idx]\n",
    "gen = [gen3, gen4]\n",
    "\n",
    "#exclude N54900\n",
    "# gen0idx = [5,6,11,24,25,26,27,28,29,30,31,32,33,34,35,36,37,38,39,40,41,42,43,44,45,46,47,48,49,50]\n",
    "# gen0 = [l[k] for k in gen0idx]\n",
    "# # oldidx = [5,6,11,24,25,26,27,28,29,30,31,32,33,34,45,46,47,48,49,50]\n",
    "# # old = [l[o] for o in oldidx]\n",
    "# oldselectidx = [6, 25, 27, 28, 29, 32, 33, 45, 46, 50]\n",
    "# old = [l[o] for o in oldselectidx]\n",
    "# youngidx = [35,36,37,38,39,40,41,42,43,44]\n",
    "# young = [l[y] for y in youngidx]\n",
    "# age = [young,old]\n"
   ]
  },
  {
   "cell_type": "code",
   "execution_count": 32,
   "metadata": {},
   "outputs": [],
   "source": [
    "# import random\n",
    "# random.seed(123)\n",
    "# oldidx = random.sample(oldidx,10)\n",
    "# old = [l[o] for o in oldidx]\n",
    "# age = [young,old]"
   ]
  },
  {
   "cell_type": "code",
   "execution_count": 33,
   "metadata": {},
   "outputs": [],
   "source": [
    "#set path\n",
    "mypath = '/Users/alex/code/Wenlin/data'\n",
    "outpath = '/Users/alex/code/Wenlin/Tracts_Registration/results'"
   ]
  },
  {
   "cell_type": "code",
   "execution_count": 34,
   "metadata": {},
   "outputs": [],
   "source": [
    "#set parameter\n",
    "num_points1 = 100\n",
    "distance1 = 1\n",
    "feature1 = ResampleFeature(nb_points=num_points1)\n",
    "metric1 = AveragePointwiseEuclideanMetric(feature=feature1)\n",
    "\n",
    "#group cluster parameter\n",
    "num_points2 = 100\n",
    "distance2 = 1\n",
    "feature2 = ResampleFeature(nb_points=num_points2)\n",
    "metric2 = AveragePointwiseEuclideanMetric(feature=feature2) "
   ]
  },
  {
   "cell_type": "code",
   "execution_count": 35,
   "metadata": {},
   "outputs": [],
   "source": [
    "#load the control animal\n",
    "streams_control,hdr_control = load_trk(mypath+'/wenlin_results/N54900_bmCSA_detr_small.trk')\n",
    "labels_control, affine_labels_control = load_nifti(mypath+'/wenlin_data/labels/fa_labels_warp_N54900_RAS.nii.gz') "
   ]
  },
  {
   "cell_type": "code",
   "execution_count": 36,
   "metadata": {},
   "outputs": [],
   "source": [
    "#uncomment this cell to generate both left and right\n",
    "# labels_pair_control = copy.copy(labels_control)\n",
    "# nonz_control = np.nonzero(labels_pair_control)\n",
    "# for i in range(len(nonz_control[0])):\n",
    "#     if labels_pair_control[nonz_control[0][i], nonz_control[1][i], nonz_control[2][i]]>=1000:\n",
    "#         labels_pair_control[nonz_control[0][i], nonz_control[1][i], nonz_control[2][i]] -= 1000\n",
    "# print('pair labels generated')\n",
    "\n",
    "# #pair labels target control animals\n",
    "# streams_fix_control = lambda : (sl for sl in streams_control if len(sl)>1)\n",
    "# streamlines_control = Streamlines(streams_fix_control())\n",
    "# M_control, grouping_control = utils.connectivity_matrix(streamlines_control, labels_pair_control, \n",
    "#                                                         affine=affine_labels_control, return_mapping=True,\n",
    "#                                                         mapping_as_streamlines=True)\n",
    "\n",
    "# target_streamlines_control = grouping_control[target_l, target_r]"
   ]
  },
  {
   "cell_type": "code",
   "execution_count": 37,
   "metadata": {},
   "outputs": [],
   "source": [
    "#target control animals\n",
    "streams_fix_control = lambda : (sl for sl in streams_control if len(sl)>1)\n",
    "streamlines_control = Streamlines(streams_fix_control())\n",
    "M_control, grouping_control = utils.connectivity_matrix(streamlines_control, labels_control, \n",
    "                                                        affine=affine_labels_control, return_mapping=True,\n",
    "                                                        mapping_as_streamlines=True)\n",
    "\n",
    "target_streamlines_control = grouping_control[target_l, target_r]"
   ]
  },
  {
   "cell_type": "code",
   "execution_count": 38,
   "metadata": {},
   "outputs": [
    {
     "name": "stdout",
     "output_type": "stream",
     "text": [
      "Control Nb. clusters: 117\n"
     ]
    }
   ],
   "source": [
    "#cluster control animals\n",
    "target_qb_control = QuickBundles(threshold=distance1,metric=metric1)\n",
    "target_clusters_control = target_qb_control.cluster(target_streamlines_control)\n",
    "print(\"Control Nb. clusters:\", len(target_clusters_control))"
   ]
  },
  {
   "cell_type": "code",
   "execution_count": 39,
   "metadata": {},
   "outputs": [
    {
     "name": "stdout",
     "output_type": "stream",
     "text": [
      "Group3 started\n",
      "NO.1 N54771 Nb. clusters: 84\n",
      "NO.2 N54772 Nb. clusters: 83\n",
      "NO.3 N54798 Nb. clusters: 73\n",
      "NO.4 N54801 Nb. clusters: 81\n",
      "NO.5 N54802 Nb. clusters: 133\n",
      "NO.6 N54803 Nb. clusters: 93\n",
      "NO.7 N54843 Nb. clusters: 81\n",
      "NO.8 N54805 Nb. clusters: 85\n",
      "NO.9 N54806 Nb. clusters: 63\n",
      "NO.10 N54807 Nb. clusters: 91\n",
      "agetype-3 finished. total number of clusters for group3: 867\n",
      "animal list:  ['N54771', 'N54772', 'N54798', 'N54801', 'N54802', 'N54803', 'N54843', 'N54805', 'N54806', 'N54807']\n",
      " \n",
      "Group4 started\n",
      "NO.1 N54719 Nb. clusters: 73\n",
      "NO.2 N54720 Nb. clusters: 121\n",
      "NO.3 N54761 Nb. clusters: 76\n",
      "NO.4 N54762 Nb. clusters: 64\n",
      "NO.5 N54763 Nb. clusters: 75\n",
      "NO.6 N54764 Nb. clusters: 72\n",
      "NO.7 N54770 Nb. clusters: 95\n",
      "NO.8 N54915 Nb. clusters: 106\n",
      "NO.9 N54916 Nb. clusters: 98\n",
      "NO.10 N54917 Nb. clusters: 100\n",
      "agetype-4 finished. total number of clusters for group4: 880\n",
      "animal list:  ['N54719', 'N54720', 'N54761', 'N54762', 'N54763', 'N54764', 'N54770', 'N54915', 'N54916', 'N54917']\n",
      " \n"
     ]
    }
   ],
   "source": [
    "#group calculation\n",
    "for k in range(2):\n",
    "    gengroup = gen[k]\n",
    "    createVar = locals()\n",
    "    createVar['groupclusters'+str(k+3)] = [] #create empty list, 4-old, 3-young\n",
    "    animallist = []\n",
    "    print('Group'+str(k+3)+' started')\n",
    "    for j in range(len(gengroup)):\n",
    "        runno = gengroup[j]\n",
    "        animallist.append(runno)\n",
    "        streams,hdr = load_trk(mypath+'/wenlin_results/'+runno+'_bmCSA_detr_small.trk')\n",
    "        labels, affine_labels = load_nifti(mypath+'/wenlin_data/labels/fa_labels_warp_'+runno+'_RAS.nii.gz') \n",
    "\n",
    "#         labels_pair = copy.copy(labels)\n",
    "#         nonz = np.nonzero(labels_pair)\n",
    "#         for i in range(len(nonz[0])):\n",
    "#             if labels_pair[nonz[0][i], nonz[1][i], nonz[2][i]]>=1000:\n",
    "#                 labels_pair[nonz[0][i], nonz[1][i], nonz[2][i]] -= 1000\n",
    "#         #print('pair labels generated')\n",
    "        \n",
    "        #target moving animals\n",
    "        streams_fix = lambda : (sl for sl in streams if len(sl)>1)\n",
    "        streamlines = Streamlines(streams_fix())\n",
    "        M, grouping = utils.connectivity_matrix(streamlines, labels, affine=affine_labels, \n",
    "                                                return_mapping=True,mapping_as_streamlines=True)\n",
    "\n",
    "        target_streamlines = grouping[target_l, target_r]\n",
    "        \n",
    "        \n",
    "        target_qb = QuickBundles(threshold=distance1,metric=metric1)\n",
    "        target_clusters = target_qb.cluster(target_streamlines)\n",
    "        print('NO.'+str(j+1)+' '+runno+\" Nb. clusters:\", len(target_clusters))\n",
    "        #registration\n",
    "        srr = StreamlineLinearRegistration()\n",
    "        srm = srr.optimize(static=target_clusters_control.centroids, moving=target_clusters.centroids)\n",
    "        target_subj_aligned = srm.transform(target_clusters.centroids)\n",
    "        \n",
    "        locals()['groupclusters'+str(k+3)].extend(target_subj_aligned)\n",
    "    print('agetype-'+str(k+3)+' finished. '+'total number of clusters for group'+ str(k+3) \n",
    "          + ': {}'.format(len(locals()['groupclusters'+str(k+3)])))\n",
    "    print('animal list: ', animallist)\n",
    "    print(' ')\n",
    "        \n",
    "        "
   ]
  },
  {
   "cell_type": "code",
   "execution_count": 40,
   "metadata": {},
   "outputs": [],
   "source": [
    "group3_qb = QuickBundles(threshold=distance2,metric=metric2)\n",
    "group3_clusters = group3_qb.cluster(groupclusters3)\n",
    "group4_qb = QuickBundles(threshold=distance2,metric=metric2)\n",
    "group4_clusters = group4_qb.cluster(groupclusters4)"
   ]
  },
  {
   "cell_type": "code",
   "execution_count": 41,
   "metadata": {},
   "outputs": [],
   "source": [
    "from dipy.io.streamline import save_trk\n",
    "save_trk('results/'+str(target_l)+'--'+str(target_r)+'11gen3CSA.trk', group3_clusters.centroids, affine=np.eye(4),\n",
    "         shape=labels.shape)\n",
    "save_trk('results/'+str(target_l)+'--'+str(target_r)+'11gen4CSA.trk', group4_clusters.centroids, affine=np.eye(4),\n",
    "         shape=labels.shape)"
   ]
  },
  {
   "cell_type": "code",
   "execution_count": null,
   "metadata": {},
   "outputs": [],
   "source": []
  }
 ],
 "metadata": {
  "kernelspec": {
   "display_name": "Python 3",
   "language": "python",
   "name": "python3"
  },
  "language_info": {
   "codemirror_mode": {
    "name": "ipython",
    "version": 3
   },
   "file_extension": ".py",
   "mimetype": "text/x-python",
   "name": "python",
   "nbconvert_exporter": "python",
   "pygments_lexer": "ipython3",
   "version": "3.6.7"
  }
 },
 "nbformat": 4,
 "nbformat_minor": 2
}
