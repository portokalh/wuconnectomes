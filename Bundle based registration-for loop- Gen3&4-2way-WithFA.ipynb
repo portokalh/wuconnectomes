{
 "cells": [
  {
   "cell_type": "code",
   "execution_count": 30,
   "metadata": {},
   "outputs": [],
   "source": [
    "import numpy as np\n",
    "import copy\n",
    "import pandas as pd\n",
    "from nibabel import trackvis as tv\n",
    "from dipy.tracking.streamline import Streamlines\n",
    "from dipy.segment.clustering import QuickBundles\n",
    "from dipy.io.pickles import save_pickle\n",
    "from dipy.data import get_fnames\n",
    "import vtk\n",
    "from dipy.viz import window, actor\n",
    "from dipy.tracking.streamline import Streamlines\n",
    "from dipy.io.streamline import load_trk, save_trk\n",
    "from dipy.segment.metric import ResampleFeature, AveragePointwiseEuclideanMetric,mdf\n",
    "from dipy.io.image import load_nifti\n",
    "from dipy.tracking import utils\n",
    "from dipy.viz import window, actor\n",
    "from time import sleep\n",
    "from dipy.data import two_cingulum_bundles\n",
    "from dipy.align.streamlinear import StreamlineLinearRegistration\n",
    "from dipy.tracking.streamline import set_number_of_points\n",
    "from dipy.tracking.streamline import transform_streamlines"
   ]
  },
  {
   "cell_type": "code",
   "execution_count": 2,
   "metadata": {},
   "outputs": [],
   "source": [
    "def show_bundles(bundles, colors=None, show=True, fname=None,fa = False, str_tube = False):\n",
    "\n",
    "    ren = window.Renderer()\n",
    "    ren.SetBackground(1., 1, 1)\n",
    "    if str_tube:\n",
    "        bundle_actor = actor.streamtube(bundles, colors, linewidth=0.5)\n",
    "        ren.add(bundle_actor)\n",
    "    else:\n",
    "        for (i, bundle) in enumerate(bundles):\n",
    "            color = colors[i]\n",
    "    #         lines_actor = actor.streamtube(bundle, color, linewidth=0.05\n",
    "\n",
    "            lines_actor = actor.line(bundle, color,linewidth=2.5)\n",
    "            #lines_actor.RotateX(-90)\n",
    "            #lines_actor.RotateZ(90)\n",
    "            ren.add(lines_actor)\n",
    "        \n",
    "    if fa:\n",
    "        fa, affine_fa= load_nifti('/Users/alex/code/Wenlin/data/wenlin_results/bmfaN54900.nii.gz')\n",
    "        fa_actor = actor.slicer(fa, affine_fa)\n",
    "        ren.add(fa_actor)\n",
    "    \n",
    "    if show:\n",
    "        window.show(ren)\n",
    "    if fname is not None:\n",
    "        sleep(1)\n",
    "        window.record(ren, n_frames=1, out_path=fname, size=(900, 900))"
   ]
  },
  {
   "cell_type": "code",
   "execution_count": 56,
   "metadata": {},
   "outputs": [],
   "source": [
    "#indicate the ROIs interested, note target_l>target_r\n",
    "target_l = 51\n",
    "target_r = 91"
   ]
  },
  {
   "cell_type": "code",
   "execution_count": 57,
   "metadata": {},
   "outputs": [],
   "source": [
    "#general information\n",
    "l = ['N54717','N54718','N54719','N54720','N54722','N54759','N54760','N54761','N54762','N54763','N54764','N54765','N54766','N54770','N54771','N54772','N54798','N54801','N54802','N54803','N54804','N54805','N54806','N54807','N54818','N54824','N54825','N54826','N54837','N54838','N54843','N54844','N54856','N54857','N54858','N54859','N54860','N54861','N54873','N54874','N54875','N54876','N54877','N54879','N54880','N54891','N54892','N54893','N54897','N54898','N54899','N54900','N54915','N54916','N54917']\n",
    "gen4idx = [1,2,3,4,7,8,9,10,12,13,52,53,54]\n",
    "gen3idx = [14,15,16,17,18,19,30,21,22,23]\n",
    "gen4selectidx = [2, 3, 7, 8, 9, 10, 13, 52, 53, 54]\n",
    "gen4 = [l[i] for i in gen4selectidx]\n",
    "gen3 = [l[j] for j in gen3idx]\n",
    "gen = [gen3, gen4]\n",
    "\n",
    "#exclude N54900\n",
    "# gen0idx = [5,6,11,24,25,26,27,28,29,30,31,32,33,34,35,36,37,38,39,40,41,42,43,44,45,46,47,48,49,50]\n",
    "# gen0 = [l[k] for k in gen0idx]\n",
    "# # oldidx = [5,6,11,24,25,26,27,28,29,30,31,32,33,34,45,46,47,48,49,50]\n",
    "# # old = [l[o] for o in oldidx]\n",
    "# oldselectidx = [6, 25, 27, 28, 29, 32, 33, 45, 46, 50]\n",
    "# old = [l[o] for o in oldselectidx]\n",
    "# youngidx = [35,36,37,38,39,40,41,42,43,44]\n",
    "# young = [l[y] for y in youngidx]\n",
    "# age = [young,old]\n"
   ]
  },
  {
   "cell_type": "code",
   "execution_count": 58,
   "metadata": {},
   "outputs": [],
   "source": [
    "# import random\n",
    "# random.seed(123)\n",
    "# oldidx = random.sample(oldidx,10)\n",
    "# old = [l[o] for o in oldidx]\n",
    "# age = [young,old]"
   ]
  },
  {
   "cell_type": "code",
   "execution_count": 59,
   "metadata": {},
   "outputs": [],
   "source": [
    "#set path\n",
    "mypath = '/Users/alex/code/Wenlin/data'\n",
    "outpath = '/Users/alex/code/Wenlin/Tracts_Registration/results'"
   ]
  },
  {
   "cell_type": "code",
   "execution_count": 60,
   "metadata": {},
   "outputs": [],
   "source": [
    "#set parameter\n",
    "num_points1 = 50\n",
    "distance1 = 1\n",
    "feature1 = ResampleFeature(nb_points=num_points1)\n",
    "metric1 = AveragePointwiseEuclideanMetric(feature=feature1)\n",
    "\n",
    "#group cluster parameter\n",
    "num_points2 = 50\n",
    "distance2 = 2\n",
    "feature2 = ResampleFeature(nb_points=num_points2)\n",
    "metric2 = AveragePointwiseEuclideanMetric(feature=feature2) "
   ]
  },
  {
   "cell_type": "code",
   "execution_count": 61,
   "metadata": {},
   "outputs": [],
   "source": [
    "#load the control animal\n",
    "streams_control,hdr_control = load_trk(mypath+'/wenlin_results/N54900_bmCSA_detr_small.trk')\n",
    "labels_control, affine_labels_control = load_nifti(mypath+'/wenlin_data/labels/fa_labels_warp_N54900_RAS.nii.gz') \n",
    "fa_control, affine_fa_control= load_nifti('/Users/alex/code/Wenlin/data/wenlin_results/bmfaN54900.nii.gz')"
   ]
  },
  {
   "cell_type": "code",
   "execution_count": 62,
   "metadata": {},
   "outputs": [],
   "source": [
    "#uncomment this cell to generate both left and right\n",
    "# labels_pair_control = copy.copy(labels_control)\n",
    "# nonz_control = np.nonzero(labels_pair_control)\n",
    "# for i in range(len(nonz_control[0])):\n",
    "#     if labels_pair_control[nonz_control[0][i], nonz_control[1][i], nonz_control[2][i]]>=1000:\n",
    "#         labels_pair_control[nonz_control[0][i], nonz_control[1][i], nonz_control[2][i]] -= 1000\n",
    "# print('pair labels generated')\n",
    "\n",
    "# #pair labels target control animals\n",
    "# streams_fix_control = lambda : (sl for sl in streams_control if len(sl)>1)\n",
    "# streamlines_control = Streamlines(streams_fix_control())\n",
    "# M_control, grouping_control = utils.connectivity_matrix(streamlines_control, labels_pair_control, \n",
    "#                                                         affine=affine_labels_control, return_mapping=True,\n",
    "#                                                         mapping_as_streamlines=True)\n",
    "\n",
    "# target_streamlines_control = grouping_control[target_l, target_r]"
   ]
  },
  {
   "cell_type": "code",
   "execution_count": 63,
   "metadata": {},
   "outputs": [],
   "source": [
    "#target control animals\n",
    "streams_fix_control = lambda : (sl for sl in streams_control if len(sl)>1)\n",
    "streamlines_control = Streamlines(streams_fix_control())\n",
    "M_control, grouping_control = utils.connectivity_matrix(streamlines_control, labels_control, \n",
    "                                                        affine=affine_labels_control, return_mapping=True,\n",
    "                                                        mapping_as_streamlines=True)\n",
    "\n",
    "target_streamlines_control = grouping_control[target_l, target_r]"
   ]
  },
  {
   "cell_type": "code",
   "execution_count": 64,
   "metadata": {},
   "outputs": [
    {
     "name": "stdout",
     "output_type": "stream",
     "text": [
      "Control Nb. clusters: 27\n"
     ]
    }
   ],
   "source": [
    "#cluster control animals\n",
    "target_qb_control = QuickBundles(threshold=distance1,metric=metric1)\n",
    "target_clusters_control = target_qb_control.cluster(target_streamlines_control)\n",
    "print(\"Control Nb. clusters:\", len(target_clusters_control))"
   ]
  },
  {
   "cell_type": "code",
   "execution_count": 65,
   "metadata": {
    "collapsed": true
   },
   "outputs": [
    {
     "name": "stdout",
     "output_type": "stream",
     "text": [
      "Group3 started\n",
      "NO.1 N54771 Nb. streamlines: 269\n",
      "NO.2 N54772 Nb. streamlines: 318\n",
      "NO.3 N54798 Nb. streamlines: 148\n",
      "NO.4 N54801 Nb. streamlines: 86\n",
      "NO.5 N54802 Nb. streamlines: 70\n",
      "NO.6 N54803 Nb. streamlines: 115\n",
      "NO.7 N54843 Nb. streamlines: 141\n",
      "NO.8 N54805 Nb. streamlines: 230\n",
      "NO.9 N54806 Nb. streamlines: 56\n",
      "NO.10 N54807 Nb. streamlines: 270\n",
      "gentype-3 finished. total number of streamlines for group3: 1703\n",
      "animal list:  ['N54771', 'N54772', 'N54798', 'N54801', 'N54802', 'N54803', 'N54843', 'N54805', 'N54806', 'N54807']\n",
      " \n",
      "Group4 started\n",
      "NO.1 N54719 Nb. streamlines: 273\n",
      "NO.2 N54720 Nb. streamlines: 171\n",
      "NO.3 N54761 Nb. streamlines: 100\n",
      "NO.4 N54762 Nb. streamlines: 194\n",
      "NO.5 N54763 Nb. streamlines: 68\n",
      "NO.6 N54764 Nb. streamlines: 167\n",
      "NO.7 N54770 Nb. streamlines: 310\n",
      "NO.8 N54915 Nb. streamlines: 134\n",
      "NO.9 N54916 Nb. streamlines: 153\n",
      "NO.10 N54917 Nb. streamlines: 155\n",
      "gentype-4 finished. total number of streamlines for group4: 1725\n",
      "animal list:  ['N54719', 'N54720', 'N54761', 'N54762', 'N54763', 'N54764', 'N54770', 'N54915', 'N54916', 'N54917']\n",
      " \n"
     ]
    }
   ],
   "source": [
    "#group calculation\n",
    "for k in range(2):\n",
    "    gengroup = gen[k]\n",
    "    createVar = locals()\n",
    "    createVar['groupstreamlines'+str(k+3)] = [] #create empty list, 2-gen4, 1-gen3\n",
    "    createVar['groupLinesFA'+str(k+3)] = [] #create empty list, 2-gen4, 1-gen3\n",
    "    createVar['groupPointsFA'+str(k+3)] = [] #create empty list, 2-gen4, 1-gen3\n",
    "    createVar['Nativegroupstreamlines'+str(k+3)] = [] #create empty list, 2-gen4, 1-gen3\n",
    "    animallist = []\n",
    "    print('Group'+str(k+3)+' started')\n",
    "    for j in range(len(gengroup)):\n",
    "        runno = gengroup[j]\n",
    "        animallist.append(runno)\n",
    "        streams,hdr = load_trk(mypath+'/wenlin_results/'+runno+'_bmCSA_detr_small.trk')\n",
    "        labels, affine_labels = load_nifti(mypath+'/wenlin_data/labels/fa_labels_warp_'+runno+'_RAS.nii.gz') \n",
    "        fa, affine_fa= load_nifti('/Users/alex/code/Wenlin/data/wenlin_results/bmfa'+runno+'.nii.gz')\n",
    "#         labels_pair = copy.copy(labels)\n",
    "#         nonz = np.nonzero(labels_pair)\n",
    "#         for i in range(len(nonz[0])):\n",
    "#             if labels_pair[nonz[0][i], nonz[1][i], nonz[2][i]]>=1000:\n",
    "#                 labels_pair[nonz[0][i], nonz[1][i], nonz[2][i]] -= 1000\n",
    "#         #print('pair labels generated')\n",
    "        \n",
    "        #target moving animals\n",
    "        streams_fix = lambda : (sl for sl in streams if len(sl)>1)\n",
    "        streamlines = Streamlines(streams_fix())\n",
    "        M, grouping = utils.connectivity_matrix(streamlines, labels, affine=affine_labels, \n",
    "                                                return_mapping=True,mapping_as_streamlines=True)\n",
    "\n",
    "        target_streamlines_ = grouping[target_l, target_r]\n",
    "\n",
    "        target_streamlines = set_number_of_points(target_streamlines_, nb_points=num_points2)\n",
    "        \n",
    "        #first clustering for transform matrix\n",
    "        target_qb = QuickBundles(threshold=distance1,metric=metric1)\n",
    "        target_clusters = target_qb.cluster(target_streamlines)\n",
    "#         print('NO.'+str(j+1)+' '+runno+\" Nb. clusters:\", len(target_clusters))\n",
    "        \n",
    "        #attach fa information\n",
    "        native_target_streamlines = transform_streamlines(target_streamlines, np.linalg.inv(affine_fa))\n",
    "        stream_fa = []\n",
    "        stream_point_fa = []\n",
    "        for s in range(len(native_target_streamlines)):\n",
    "            point_fa = [fa[int(k[0]),int(k[1]),int(k[2])] for k in native_target_streamlines[s]]\n",
    "            stream_point_fa.append(point_fa)\n",
    "            stream_fa.append(np.mean(point_fa))\n",
    "        \n",
    "        #registration\n",
    "        srr = StreamlineLinearRegistration()\n",
    "        srm = srr.optimize(static=target_clusters_control.centroids, moving=target_clusters.centroids)\n",
    "        target_str_aligned = srm.transform(target_streamlines)\n",
    "        native_target_stream_aligned = transform_streamlines(target_str_aligned, np.linalg.inv(affine_fa))\n",
    "        \n",
    "        \n",
    "        locals()['groupstreamlines'+str(k+3)].extend(target_str_aligned)\n",
    "        locals()['Nativegroupstreamlines'+str(k+3)].extend(native_target_stream_aligned)\n",
    "        locals()['groupLinesFA'+str(k+3)].extend(stream_fa)\n",
    "        locals()['groupPointsFA'+str(k+3)].extend(stream_point_fa)\n",
    "        \n",
    "        print('NO.'+str(j+1)+' '+runno+\" Nb. streamlines:\", len(target_str_aligned))\n",
    "        \n",
    "    print('gentype-'+str(k+3)+' finished. '+'total number of streamlines for group'+ str(k+3) \n",
    "          + ': {}'.format(len(locals()['groupstreamlines'+str(k+3)])))\n",
    "    print('animal list: ', animallist)\n",
    "    print(' ')\n",
    "        \n",
    "        "
   ]
  },
  {
   "cell_type": "code",
   "execution_count": 66,
   "metadata": {},
   "outputs": [
    {
     "name": "stdout",
     "output_type": "stream",
     "text": [
      "Young Group Nb. clusters: 34\n",
      "Old Group Nb. clusters: 30\n"
     ]
    }
   ],
   "source": [
    "group3_qb = QuickBundles(threshold=distance2,metric=metric2)\n",
    "group3_clusters = group3_qb.cluster(groupstreamlines3)\n",
    "group4_qb = QuickBundles(threshold=distance2,metric=metric2)\n",
    "group4_clusters = group4_qb.cluster(groupstreamlines4)\n",
    "print(\"Young Group Nb. clusters:\", len(group3_clusters))\n",
    "print(\"Old Group Nb. clusters:\", len(group4_clusters))"
   ]
  },
  {
   "cell_type": "code",
   "execution_count": 59,
   "metadata": {},
   "outputs": [
    {
     "name": "stderr",
     "output_type": "stream",
     "text": [
      "/Users/alex/anaconda3/envs/python3/lib/python3.6/site-packages/vtk/util/numpy_support.py:137: FutureWarning: Conversion of the second argument of issubdtype from `complex` to `np.complexfloating` is deprecated. In future, it will be treated as `np.complex128 == np.dtype(complex).type`.\n",
      "  assert not numpy.issubdtype(z.dtype, complex), \\\n"
     ]
    }
   ],
   "source": [
    "#------------------------------------stop!!!--------------\n",
    "#color by line-average fa\n",
    "#color by points\n",
    "group = 3\n",
    "\n",
    "if group == 3:\n",
    "    Nativegroupstreamlines = Nativegroupstreamlines3\n",
    "    groupLinesFA = groupLinesFA3\n",
    "    name = 'Group_Gen3'\n",
    "else:\n",
    "    Nativegroupstreamlines = Nativegroupstreamlines4\n",
    "    groupLinesFA = groupLinesFA4\n",
    "    name = 'Group_Gen4'\n",
    "    \n",
    "cmap = actor.colormap_lookup_table(\n",
    "    scale_range=(np.min(groupLinesFA), np.max(groupLinesFA)))\n",
    "\n",
    "renderer = window.Renderer()\n",
    "stream_actor = actor.line(Nativegroupstreamlines,np.array(groupLinesFA),lookup_colormap=cmap)\n",
    "fa_actor = actor.slicer(fa_control, np.eye(4))\n",
    "renderer.add(stream_actor)\n",
    "renderer.add(fa_actor)\n",
    "bar = actor.scalar_bar(cmap)\n",
    "renderer.add(bar)\n",
    "# Uncomment the line below to show to display the window\n",
    "window.show(renderer, size=(600, 600), reset_camera=False)\n",
    "window.record(renderer,size=(600, 600),\n",
    "              out_path = outpath+'/'+str(target_l)+'--'+str(target_r)+name+' lineFA Viz.png')"
   ]
  },
  {
   "cell_type": "code",
   "execution_count": 65,
   "metadata": {},
   "outputs": [],
   "source": [
    "#color by points\n",
    "group = 3\n",
    "\n",
    "if group == 3:\n",
    "    Nativegroupstreamlines = Nativegroupstreamlines3\n",
    "    groupPointsFA = groupPointsFA3\n",
    "    name = 'Group_Gen3'\n",
    "else:\n",
    "    Nativegroupstreamlines = Nativegroupstreamlines4\n",
    "    groupPointsFA = groupPointsFA4\n",
    "    name = 'Group_Gen4'\n",
    "\n",
    "cmap = actor.colormap_lookup_table(\n",
    "scale_range=(np.min(groupPointsFA), np.max(groupPointsFA)))\n",
    "\n",
    "renderer = window.Renderer()\n",
    "renderer.clear()\n",
    "renderer = window.Renderer()\n",
    "colors = []\n",
    "for s in range(len(Nativegroupstreamlines)):\n",
    "    stream = Nativegroupstreamlines[s]\n",
    "    for idx in range(len(stream)):\n",
    "        colors.append(groupPointsFA[s][idx])\n",
    "\n",
    "stream_actor2 = actor.line(Nativegroupstreamlines, colors, linewidth=0.2,lookup_colormap=cmap)\n",
    "\n",
    "renderer.add(stream_actor2)\n",
    "fa_actor2 = actor.slicer(fa_control, np.eye(4))\n",
    "renderer.add(fa_actor2)\n",
    "bar = actor.scalar_bar(cmap)\n",
    "renderer.add(bar)\n",
    "\n",
    "# Uncomment the line below to show to display the window\n",
    "window.show(renderer, size=(600, 600), reset_camera=False)\n",
    "window.record(renderer,size=(600, 600),\n",
    "              out_path = outpath+'/'+str(target_l)+'--'+str(target_r)+name+' PointFA Viz.png')"
   ]
  },
  {
   "cell_type": "code",
   "execution_count": null,
   "metadata": {},
   "outputs": [],
   "source": [
    "#viz a specific bundle with line FA \n",
    "\n",
    "group = 3\n",
    "bundle_id = 40\n",
    "\n",
    "if group == 3:\n",
    "    group_clusters = group3_clusters\n",
    "    groupLinesFA = groupLinesFA3\n",
    "    name = 'Group_Gen3-Bundle '+str(bundle_id)\n",
    "else:\n",
    "    group_clusters = group4_clusters\n",
    "    groupLinesFA = groupLinesFA4\n",
    "    name = 'Group_Gen4-Bundle '+str(bundle_id)\n",
    "\n",
    "k = group_clusters.clusters[bundle_id]\n",
    "bundle_fa = []\n",
    "for idx in k.indices:\n",
    "    bundle_fa.append(groupLinesFA[idx])\n",
    "\n",
    "#         cmap = actor.colormap_lookup_table(\n",
    "#         scale_range=(np.min(bundle_fa), np.max(bundle_fa)))\n",
    "cmap = actor.colormap_lookup_table(\n",
    "scale_range=(0.1, 0.5))\n",
    "\n",
    "#color by line-average fa\n",
    "renderer = window.Renderer()\n",
    "renderer.clear()\n",
    "renderer = window.Renderer()\n",
    "stream_actor3 = actor.line(group_clusters.clusters[bundle_id],np.array(bundle_fa),lookup_colormap=cmap)\n",
    "renderer.add(stream_actor3)\n",
    "bar = actor.scalar_bar(cmap)\n",
    "renderer.add(bar)\n",
    "# Uncomment the line below to show to display the window\n",
    "window.show(renderer, size=(600, 600), reset_camera=False)\n",
    "#window.record(renderer,size=(600, 600),\n",
    "              #out_path = outpath+'/'+str(target_l)+'--'+str(target_r)+name+' lineFA Viz.png')"
   ]
  },
  {
   "cell_type": "code",
   "execution_count": 23,
   "metadata": {},
   "outputs": [],
   "source": [
    "#viz top bundle\n",
    "np.random.seed(123)\n",
    "group = 4\n",
    "num_of_bundles = 5\n",
    "\n",
    "if group == 3:\n",
    "    group_clusters = group3_clusters\n",
    "    groupLinesFA = groupLinesFA3\n",
    "    name = 'Group_Gen3-Bundle top '+str(num_of_bundles)\n",
    "else:\n",
    "    group_clusters = group4_clusters\n",
    "    groupLinesFA = groupLinesFA4\n",
    "    name = 'Group_Gen4-Bundle '+str(num_of_bundles)\n",
    "    \n",
    "top_idx = sorted(range(len(group_clusters.clusters_sizes())), key=lambda i: group_clusters.clusters_sizes()[i],\n",
    "             reverse=True)[:num_of_bundles]\n",
    "\n",
    "bundle_list = [group_clusters.clusters[idx] for idx in top_idx]\n",
    "color_list = [(np.random.randint(0, 255),np.random.randint(0, 255),np.random.randint(0, 255)) \n",
    "              for n in range(num_of_bundles)]\n",
    "color_list_dis_all = [window.colors.green,window.colors.yellow,\n",
    "                  window.colors.red,window.colors.brown,\n",
    "                  window.colors.orange,window.colors.blue]\n",
    "color_list_dis = [color_list_dis_all[i] for i in range(num_of_bundles)]\n",
    "\n",
    "if num_of_bundles <= 6:\n",
    "    colors = color_list_dis\n",
    "else:\n",
    "    colors = color_list\n",
    "    \n",
    "show_bundles(bundle_list,colors,fa = 1)"
   ]
  },
  {
   "cell_type": "code",
   "execution_count": 67,
   "metadata": {},
   "outputs": [],
   "source": [
    "#viz top bundle with centroid\n",
    "np.random.seed(123)\n",
    "group = 3\n",
    "num_of_bundles =4\n",
    "\n",
    "if group == 3:\n",
    "    group_clusters = group3_clusters\n",
    "    groupLinesFA = groupLinesFA3\n",
    "    name = 'Group_Gen3-Bundle top '+str(num_of_bundles)\n",
    "else:\n",
    "    group_clusters = group4_clusters\n",
    "    groupLinesFA = groupLinesFA4\n",
    "    name = 'Group_Gen4-Bundle '+str(num_of_bundles)\n",
    "    \n",
    "top_idx = sorted(range(len(group_clusters.clusters_sizes())), key=lambda i: group_clusters.clusters_sizes()[i],\n",
    "             reverse=True)[:num_of_bundles]\n",
    "\n",
    "color_list = [(np.random.randint(0, 255),np.random.randint(0, 255),np.random.randint(0, 255)) \n",
    "              for n in range(num_of_bundles)]\n",
    "color_list_dis_all = [window.colors.green,window.colors.yellow,\n",
    "                  window.colors.red,window.colors.brown,\n",
    "                  window.colors.orange,window.colors.blue]\n",
    "color_list_dis = [color_list_dis_all[i] for i in range(num_of_bundles)]\n",
    "\n",
    "if num_of_bundles <= 6:\n",
    "    colors = color_list_dis\n",
    "else:\n",
    "    colors = color_list\n",
    "    \n",
    "bundle_list = [group_clusters.centroids[idx] for idx in top_idx]\n",
    "    \n",
    "show_bundles(bundle_list,colors,str_tube=True,fa = 0)"
   ]
  },
  {
   "cell_type": "code",
   "execution_count": 79,
   "metadata": {},
   "outputs": [],
   "source": [
    "#viz top bundle with centroid and bundles\n",
    "np.random.seed(123)\n",
    "group = 3\n",
    "num_of_bundles =6\n",
    "\n",
    "if group == 3:\n",
    "    group_clusters = group3_clusters\n",
    "    groupLinesFA = groupLinesFA3\n",
    "    name = 'Group_Young-Bundle top '+str(num_of_bundles)\n",
    "else:\n",
    "    group_clusters = group4_clusters\n",
    "    groupLinesFA = groupLinesFA4\n",
    "    name = 'Group_Old-Bundle '+str(num_of_bundles)\n",
    "\n",
    "top_idx = sorted(range(len(group_clusters.clusters_sizes())), key=lambda i: group_clusters.clusters_sizes()[i],\n",
    "             reverse=True)[:num_of_bundles]\n",
    "\n",
    "color_list = [(np.random.randint(0, 255),np.random.randint(0, 255),np.random.randint(0, 255)) \n",
    "              for n in range(num_of_bundles)]\n",
    "color_list_dis_all = [window.colors.green,window.colors.yellow,\n",
    "                  window.colors.red,window.colors.brown,\n",
    "                  window.colors.orange,window.colors.blue]\n",
    "color_list_dis = [color_list_dis_all[i] for i in range(num_of_bundles)]\n",
    "\n",
    "if num_of_bundles <= 6:\n",
    "    colors = color_list_dis\n",
    "else:\n",
    "    colors = color_list\n",
    "\n",
    "fa, affine_fa= load_nifti('/Users/alex/code/Wenlin/data/wenlin_results/bmfaN54900.nii.gz')\n",
    "fa_actor = actor.slicer(fa, affine_fa)\n",
    "\n",
    "        \n",
    "bundle_list_center = [group_clusters.centroids[idx] for idx in top_idx]\n",
    "bundle_list = [group_clusters.clusters[idx] for idx in top_idx]\n",
    "ren = window.Renderer()\n",
    "ren.SetBackground(1., 1, 1)\n",
    "\n",
    "bundle_actor = actor.streamtube(bundle_list_center, colors, linewidth=0.1)\n",
    "\n",
    "\n",
    "for (ii, bundle) in enumerate(bundle_list):\n",
    "    color = colors[ii]\n",
    "    lines_actor = actor.line(bundle, color,opacity=0.9)\n",
    "    ren.add(lines_actor)\n",
    "    \n",
    "ren.add(bundle_actor) \n",
    "#uncomment this to show fa\n",
    "#ren.add(fa_actor)\n",
    "window.show(ren)        "
   ]
  },
  {
   "cell_type": "code",
   "execution_count": 46,
   "metadata": {},
   "outputs": [],
   "source": [
    "num_of_bundles = 20\n",
    "top_idx_group3 = sorted(range(len(group3_clusters.clusters_sizes())),\n",
    "                        key=lambda i: group3_clusters.clusters_sizes()[i],reverse=True)[:num_of_bundles]\n",
    "top_idx_group4 = sorted(range(len(group4_clusters.clusters_sizes())),\n",
    "                        key=lambda i: group4_clusters.clusters_sizes()[i],reverse=True)[:num_of_bundles]"
   ]
  },
  {
   "cell_type": "code",
   "execution_count": 47,
   "metadata": {},
   "outputs": [],
   "source": [
    "bundle_group3 = [group3_clusters.centroids[idx] for idx in top_idx_group3]\n",
    "bundle_group4 = [group4_clusters.centroids[idx] for idx in top_idx_group4]"
   ]
  },
  {
   "cell_type": "code",
   "execution_count": 48,
   "metadata": {},
   "outputs": [],
   "source": [
    "from dipy.segment.metric import ResampleFeature, AveragePointwiseEuclideanMetric,mdf\n",
    "dist_all = np.zeros((num_of_bundles,num_of_bundles))\n",
    "for g3 in range(len(bundle_group3)):\n",
    "    for g4 in range(len(bundle_group4)):\n",
    "        id3 = top_idx_group3[g3]\n",
    "        id4 = top_idx_group4[g4]\n",
    "        dist_all[g3,g4] = (mdf(group3_clusters.centroids[id3],group4_clusters.centroids[id4]))"
   ]
  },
  {
   "cell_type": "code",
   "execution_count": 49,
   "metadata": {},
   "outputs": [
    {
     "name": "stdout",
     "output_type": "stream",
     "text": [
      "1--0\n",
      "3--2\n",
      "11--7\n",
      "0--1\n",
      "2--4\n",
      "17--16\n"
     ]
    }
   ],
   "source": [
    "import copy\n",
    "dist_all_fix = copy.copy(dist_all)\n",
    "dist_all_idx = []\n",
    "for i in range(len(bundle_group3)):\n",
    "        idx = np.argmin(dist_all_fix[i,:])\n",
    "        dist_all_idx.append([i,idx])\n",
    "        dist_all_fix[:,idx] = 100000\n",
    "#dist_all_idx\n",
    "\n",
    "dist_group3_idx = [dist_all_idx[iii][0] for iii in range(num_of_bundles)]#size id\n",
    "dist_group4_idx = [dist_all_idx[iii][1] for iii in range(num_of_bundles)]#size id\n",
    "\n",
    "correspond_bundle_id = [] #bundle id\n",
    "for i in range(6):\n",
    "    correspond_bundle_id.append([top_idx_group3[dist_all_idx[i][0]],top_idx_group4[dist_all_idx[i][1]]])\n",
    "    print(str(top_idx_group3[dist_all_idx[i][0]])+'--'+str(top_idx_group4[dist_all_idx[i][1]]))"
   ]
  },
  {
   "cell_type": "code",
   "execution_count": 50,
   "metadata": {},
   "outputs": [
    {
     "name": "stdout",
     "output_type": "stream",
     "text": [
      "[1, 3, 11, 0, 2, 17]\n",
      "[0, 2, 7, 1, 4, 16]\n",
      "[[1, 0], [3, 2], [11, 7], [0, 1], [2, 4], [17, 16]]\n"
     ]
    }
   ],
   "source": [
    "group3List = [top_idx_group3[dist_all_idx[i][0]] for i in range(6)]\n",
    "group4List = [top_idx_group4[dist_all_idx[i][1]] for i in range(6)]\n",
    "print(group3List)\n",
    "print(group4List)\n",
    "print(correspond_bundle_id)"
   ]
  },
  {
   "cell_type": "code",
   "execution_count": 51,
   "metadata": {},
   "outputs": [
    {
     "name": "stderr",
     "output_type": "stream",
     "text": [
      "/Users/alex/anaconda3/envs/python3/lib/python3.6/site-packages/vtk/util/numpy_support.py:137: FutureWarning: Conversion of the second argument of issubdtype from `complex` to `np.complexfloating` is deprecated. In future, it will be treated as `np.complex128 == np.dtype(complex).type`.\n",
      "  assert not numpy.issubdtype(z.dtype, complex), \\\n"
     ]
    }
   ],
   "source": [
    "#viz bundle for loop\n",
    "num_of_top_bundle = 6\n",
    "group3List = [top_idx_group3[dist_all_idx[i][0]] for i in range(6)]\n",
    "group4List = [top_idx_group4[dist_all_idx[i][1]] for i in range(6)]\n",
    "groupList = [[],[],[],group3List,group4List]\n",
    "for groupidx in [3,4]:\n",
    "    for num in groupList[groupidx]:   #[0,2,6,3,8,1] for group2\n",
    "        cor_id = groupList[groupidx].index(num)\n",
    "        group = groupidx\n",
    "        bundle_id = num\n",
    "\n",
    "        if group == 3:\n",
    "            group_clusters = group3_clusters\n",
    "            groupLinesFA = groupLinesFA3\n",
    "            groupPointsFA = groupPointsFA3\n",
    "            name = 'Group_agen3-Bundle_'+str(bundle_id)+'_corID'+str(cor_id)\n",
    "        if group == 4:\n",
    "            group_clusters = group4_clusters\n",
    "            groupLinesFA = groupLinesFA4\n",
    "            groupPointsFA = groupPointsFA4\n",
    "            name = 'Group_Gen4-Bundle_'+str(bundle_id)+'_corID'+str(cor_id)\n",
    "\n",
    "        bundle_point_fa = []\n",
    "        bundle_fa = []\n",
    "        k = group_clusters.clusters[bundle_id]\n",
    "        for idx in k.indices:\n",
    "            bundle_fa.append(groupLinesFA[idx])\n",
    "            for idx_point in range(len(groupPointsFA[idx])):\n",
    "                bundle_point_fa.append(groupPointsFA[idx][idx_point])\n",
    "\n",
    "\n",
    "#         cmap = actor.colormap_lookup_table(\n",
    "#         scale_range=(np.min(bundle_fa), np.max(bundle_fa)))\n",
    "        cmap = actor.colormap_lookup_table(\n",
    "        scale_range=(0.1, 0.6))\n",
    "\n",
    "        #color by line-average fa\n",
    "        renderer = window.Renderer()\n",
    "        renderer.clear()\n",
    "        renderer = window.Renderer()\n",
    "#         stream_actor3 = actor.line(group_clusters.clusters[bundle_id],np.array(bundle_fa),lookup_colormap=cmap)\n",
    "        stream_actor3 = actor.line(group_clusters.clusters[bundle_id],\n",
    "                                   np.array(bundle_point_fa),lookup_colormap=cmap)\n",
    "        renderer.add(stream_actor3)\n",
    "        bar = actor.scalar_bar(cmap)\n",
    "        renderer.add(bar)\n",
    "        # Uncomment the line below to show to display the window\n",
    "        #window.show(renderer, size=(600, 600), reset_camera=False)\n",
    "        window.record(renderer,size=(600, 600),\n",
    "                      out_path = outpath+'/'+str(target_l)+'--'+str(target_r)+name+' PointFA Viz.png')"
   ]
  },
  {
   "cell_type": "code",
   "execution_count": 33,
   "metadata": {},
   "outputs": [],
   "source": [
    "group3csv = np.zeros((1,6))\n",
    "for i in range(6):\n",
    "    idsize = dist_group3_idx[i]\n",
    "    idbundle = group3List[i]\n",
    "    fa = []\n",
    "    for s in group3_clusters.clusters[idbundle].indices:\n",
    "            temp = np.hstack((idsize*np.ones((num_points2,1)),\n",
    "                              idbundle*np.ones((num_points2,1)),\n",
    "                              s*np.ones((num_points2,1)),\n",
    "                              np.array(range(num_points2)).reshape(num_points2,1),\n",
    "                              np.array(groupPointsFA3[s]).reshape(num_points2,1),\n",
    "                             list(utils.length([groupstreamlines3[s]]))*np.ones((num_points2,1))))\n",
    "            group3csv = np.vstack((group3csv,temp))\n",
    "group3csv = group3csv[1:,:]\n",
    "group3csvDF = pd.DataFrame(group3csv)\n",
    "group3csvDF.rename(index=str, columns={0:\"Bundle Size Rank\",1:\"Bundle ID\",2:\"Steamlines ID\",\n",
    "                                       3:\"Point ID\", 4:\"FA\", 5:\"length\"})\n",
    "group3csvDF.to_csv(outpath+'/'+str(target_l)+'--'+str(target_r)+'group3FA.csv'\n",
    "                   ,header = [\"Bundle Size Rank\",\"Bundle ID\",\"Streamlines ID\",\n",
    "                                                     \"Point ID\", \"FA\",\"Length\"])"
   ]
  },
  {
   "cell_type": "code",
   "execution_count": 34,
   "metadata": {},
   "outputs": [],
   "source": [
    "group4csv = np.zeros((1,6))\n",
    "for i in range(6):\n",
    "    idsize = dist_group4_idx[i]\n",
    "    idbundle = group4List[i]\n",
    "    fa = []\n",
    "    for s in group4_clusters.clusters[idbundle].indices:\n",
    "            temp = np.hstack((idsize*np.ones((num_points2,1)),\n",
    "                              idbundle*np.ones((num_points2,1)),\n",
    "                              s*np.ones((num_points2,1)),\n",
    "                              np.array(range(num_points2)).reshape(num_points2,1),\n",
    "                              np.array(groupPointsFA4[s]).reshape(num_points2,1),\n",
    "                             list(utils.length([groupstreamlines4[s]]))*np.ones((num_points2,1))))\n",
    "            group4csv = np.vstack((group4csv,temp))\n",
    "group4csv = group4csv[1:,:]  \n",
    "group4csvDF = pd.DataFrame(group4csv)\n",
    "group4csvDF.rename(index=str, columns={0:\"Bundle Size Rank\",1:\"Bundle ID\",2:\"Steamlines ID\",\n",
    "                                       3:\"Point ID\", 4:\"FA\", 5:\"length\"})\n",
    "group4csvDF.to_csv(outpath+'/'+str(target_l)+'--'+str(target_r)+'group4FA.csv'\n",
    "                   ,header = [\"Bundle Size Rank\",\"Bundle ID\",\"Streamlines ID\",\n",
    "                                                     \"Point ID\", \"FA\",\"Length\"])"
   ]
  },
  {
   "cell_type": "code",
   "execution_count": null,
   "metadata": {},
   "outputs": [],
   "source": [
    "#before alignment - centroids for moving and reference\n",
    "show_bundles([target_clusters_control.centroids,target_clusters.centroids],\n",
    "             colors = [window.colors.orange,window.colors.green])"
   ]
  },
  {
   "cell_type": "code",
   "execution_count": null,
   "metadata": {},
   "outputs": [],
   "source": [
    "#after alignment - centroids for moving and reference\n",
    "show_bundles([target_clusters_control.centroids,target_str_aligned],\n",
    "             colors = [window.colors.orange,window.colors.green])"
   ]
  },
  {
   "cell_type": "code",
   "execution_count": 74,
   "metadata": {},
   "outputs": [
    {
     "data": {
      "text/plain": [
       "(0.0, 1.0, 0.0)"
      ]
     },
     "execution_count": 74,
     "metadata": {},
     "output_type": "execute_result"
    }
   ],
   "source": [
    "window.colors.green"
   ]
  },
  {
   "cell_type": "code",
   "execution_count": 75,
   "metadata": {},
   "outputs": [
    {
     "data": {
      "text/plain": [
       "[(0.0, 1.0, 0.0), (1.0, 1.0, 0.0), (1.0, 0.0, 0.0)]"
      ]
     },
     "execution_count": 75,
     "metadata": {},
     "output_type": "execute_result"
    }
   ],
   "source": [
    "[color_list_dis_all[i] for i in range(num_of_bundles)]"
   ]
  },
  {
   "cell_type": "code",
   "execution_count": 76,
   "metadata": {},
   "outputs": [
    {
     "data": {
      "text/plain": [
       "[(0.0, 1.0, 0.0), (1.0, 1.0, 0.0), (1.0, 0.0, 0.0)]"
      ]
     },
     "execution_count": 76,
     "metadata": {},
     "output_type": "execute_result"
    }
   ],
   "source": [
    "colors"
   ]
  },
  {
   "cell_type": "code",
   "execution_count": null,
   "metadata": {},
   "outputs": [],
   "source": []
  }
 ],
 "metadata": {
  "kernelspec": {
   "display_name": "Python 3",
   "language": "python",
   "name": "python3"
  },
  "language_info": {
   "codemirror_mode": {
    "name": "ipython",
    "version": 3
   },
   "file_extension": ".py",
   "mimetype": "text/x-python",
   "name": "python",
   "nbconvert_exporter": "python",
   "pygments_lexer": "ipython3",
   "version": "3.6.7"
  }
 },
 "nbformat": 4,
 "nbformat_minor": 2
}
