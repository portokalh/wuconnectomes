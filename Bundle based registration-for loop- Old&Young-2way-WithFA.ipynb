{
 "cells": [
  {
   "cell_type": "code",
   "execution_count": 24,
   "metadata": {},
   "outputs": [],
   "source": [
    "import numpy as np\n",
    "import pandas as pd\n",
    "import pickle\n",
    "import copy\n",
    "from nibabel import trackvis as tv\n",
    "from dipy.tracking.streamline import Streamlines\n",
    "from dipy.segment.clustering import QuickBundles\n",
    "from dipy.io.pickles import save_pickle\n",
    "from dipy.data import get_fnames\n",
    "import vtk\n",
    "from dipy.viz import window, actor\n",
    "from dipy.tracking.streamline import Streamlines\n",
    "from dipy.io.streamline import load_trk, save_trk\n",
    "from dipy.segment.metric import ResampleFeature, AveragePointwiseEuclideanMetric,mdf\n",
    "from dipy.io.image import load_nifti\n",
    "from dipy.tracking import utils\n",
    "from dipy.viz import window, actor\n",
    "from time import sleep\n",
    "from dipy.data import two_cingulum_bundles\n",
    "from dipy.align.streamlinear import StreamlineLinearRegistration\n",
    "from dipy.tracking.streamline import set_number_of_points\n",
    "from dipy.tracking.streamline import transform_streamlines\n",
    "import glob\n",
    "import shlex\n",
    "\n",
    "from tracking_func import unload_trk, show_bundles, almicedf_fix\n",
    "from mac_aliashandling import checklinks\n"
   ]
  },
  {
   "cell_type": "code",
   "execution_count": 25,
   "metadata": {},
   "outputs": [],
   "source": [
    "#set path\n",
    "mypath = '/Users/alex/bass/testdata/'\n",
    "outpath = '/Users/alex/jacques/temp_results'"
   ]
  },
  {
   "cell_type": "code",
   "execution_count": 3,
   "metadata": {},
   "outputs": [],
   "source": [
    "#set path\n",
    "mypath = '/Users/alex/code/Wenlin/data'\n",
    "outpath = '/Users/alex/code/Wenlin/Tracts_Registration/results'"
   ]
  },
  {
   "cell_type": "code",
   "execution_count": 26,
   "metadata": {},
   "outputs": [],
   "source": [
    "masterFile= mypath + '/mwm_master_organized.csv'\n",
    "df = pd.read_csv(masterFile) #mice alzheimer database\n",
    "df=almicedf_fix(df)\n",
    "#df0=df.loc[df['genotype'] == 0].Animal.unique()\n",
    "df_young=df.loc[df['age']<300]\n",
    "df_old=df[(df.age>300) & (df.genotype==0)]\n",
    "young=df_young.runno.unique()\n",
    "old=df_old.runno.unique()\n",
    "old=old[:np.size(young)]\n",
    "age = [young,old]\n",
    "group_names = ['Young','Old']"
   ]
  },
  {
   "cell_type": "code",
   "execution_count": 27,
   "metadata": {},
   "outputs": [],
   "source": [
    "#general information\n",
    "l = ['N54717','N54718','N54719','N54720','N54722','N54759','N54760','N54761','N54762','N54763','N54764','N54765','N54766','N54770','N54771','N54772','N54798','N54801','N54802','N54803','N54804','N54805','N54806','N54807','N54818','N54824','N54825','N54826','N54837','N54838','N54843','N54844','N54856','N54857','N54858','N54859','N54860','N54861','N54873','N54874','N54875','N54876','N54877','N54879','N54880','N54891','N54892','N54893','N54897','N54898','N54899','N54900','N54915','N54916','N54917']\n",
    "# gen4idx = [1,2,3,4,7,8,9,10,12,13,52,53,54]\n",
    "# gen3idx = [14,15,16,17,18,19,30,21,22,23]\n",
    "# gen4 = [l[i] for i in gen4idx]\n",
    "# gen3 = [l[j] for j in gen3idx]\n",
    "# gen = [gen3, gen4]\n",
    "\n",
    "#exclude N54900\n",
    "gen0idx = [5,6,11,24,25,26,27,28,29,30,31,32,33,34,35,36,37,38,39,40,41,42,43,44,45,46,47,48,49,50]\n",
    "gen0 = [l[k] for k in gen0idx]\n",
    "# oldidx = [5,6,11,24,25,26,27,28,29,30,31,32,33,34,45,46,47,48,49,50]\n",
    "# old = [l[o] for o in oldidx]\n",
    "oldselectidx = [6, 25, 27, 28, 29, 32, 33, 45, 46, 50]\n",
    "old = [l[o] for o in oldselectidx]\n",
    "youngidx = [35,36,37,38,39,40,41,42,43,44]\n",
    "young = [l[y] for y in youngidx]\n",
    "age = [young,old]\n"
   ]
  },
  {
   "cell_type": "code",
   "execution_count": 28,
   "metadata": {},
   "outputs": [
    {
     "name": "stdout",
     "output_type": "stream",
     "text": [
      "['N54859', 'N54860', 'N54861', 'N54873', 'N54874', 'N54875', 'N54876', 'N54877', 'N54879', 'N54880']\n",
      "['N54760', 'N54824', 'N54826', 'N54837', 'N54838', 'N54856', 'N54857', 'N54891', 'N54892', 'N54899']\n"
     ]
    }
   ],
   "source": [
    "print(young)\n",
    "print(old)\n",
    "#print(young2)\n",
    "#print(old2)\n",
    "#print(np.size(young))\n",
    "#print(np.size(young2))\n"
   ]
  },
  {
   "cell_type": "code",
   "execution_count": 29,
   "metadata": {},
   "outputs": [],
   "source": [
    "#indicate the ROIs interested, note target_l<target_r\n",
    "target_l = 51\n",
    "target_r = 257-166+1000"
   ]
  },
  {
   "cell_type": "code",
   "execution_count": 30,
   "metadata": {},
   "outputs": [],
   "source": [
    "#set parameter\n",
    "num_points1 = 50\n",
    "distance1 = 1\n",
    "feature1 = ResampleFeature(nb_points=num_points1)\n",
    "metric1 = AveragePointwiseEuclideanMetric(feature=feature1)\n",
    "\n",
    "#group cluster parameter\n",
    "num_points2 = 50\n",
    "distance2 = 2\n",
    "feature2 = ResampleFeature(nb_points=num_points2)\n",
    "metric2 = AveragePointwiseEuclideanMetric(feature=feature2) "
   ]
  },
  {
   "cell_type": "code",
   "execution_count": 31,
   "metadata": {},
   "outputs": [
    {
     "name": "stdout",
     "output_type": "stream",
     "text": [
      "/Users/alex/bass/testdata//results/N54900*small*0_5*.trk\n"
     ]
    }
   ],
   "source": [
    "print((mypath+'/results/'+control+'*'+tractsize+'*'+stepsize+'*.trk'))"
   ]
  },
  {
   "cell_type": "code",
   "execution_count": 35,
   "metadata": {},
   "outputs": [
    {
     "ename": "IndexError",
     "evalue": "list index out of range",
     "output_type": "error",
     "traceback": [
      "\u001b[0;31m---------------------------------------------------------------------------\u001b[0m",
      "\u001b[0;31mIndexError\u001b[0m                                Traceback (most recent call last)",
      "\u001b[0;32m<ipython-input-35-00b6f8552e3a>\u001b[0m in \u001b[0;36m<module>\u001b[0;34m\u001b[0m\n\u001b[1;32m     14\u001b[0m \u001b[0mtractsize\u001b[0m\u001b[0;34m=\u001b[0m\u001b[0;34m'small'\u001b[0m\u001b[0;34m\u001b[0m\u001b[0;34m\u001b[0m\u001b[0m\n\u001b[1;32m     15\u001b[0m \u001b[0mchecklinks\u001b[0m\u001b[0;34m(\u001b[0m\u001b[0mglob\u001b[0m\u001b[0;34m.\u001b[0m\u001b[0mglob\u001b[0m\u001b[0;34m(\u001b[0m\u001b[0mmypath\u001b[0m\u001b[0;34m+\u001b[0m\u001b[0;34m'/*/'\u001b[0m\u001b[0;34m)\u001b[0m\u001b[0;34m)\u001b[0m\u001b[0;34m\u001b[0m\u001b[0;34m\u001b[0m\u001b[0m\n\u001b[0;32m---> 16\u001b[0;31m \u001b[0mstreams_control\u001b[0m\u001b[0;34m,\u001b[0m\u001b[0mhdr_control\u001b[0m\u001b[0;34m,\u001b[0m \u001b[0m_\u001b[0m \u001b[0;34m=\u001b[0m \u001b[0munload_trk\u001b[0m\u001b[0;34m(\u001b[0m\u001b[0mglob\u001b[0m\u001b[0;34m.\u001b[0m\u001b[0mglob\u001b[0m\u001b[0;34m(\u001b[0m\u001b[0mmypath\u001b[0m\u001b[0;34m+\u001b[0m\u001b[0;34m'/results/'\u001b[0m\u001b[0;34m+\u001b[0m\u001b[0mcontrol\u001b[0m\u001b[0;34m+\u001b[0m\u001b[0;34m'*'\u001b[0m\u001b[0;34m+\u001b[0m\u001b[0mtractsize\u001b[0m\u001b[0;34m+\u001b[0m\u001b[0;34m'*'\u001b[0m\u001b[0;34m+\u001b[0m\u001b[0mstepsize\u001b[0m\u001b[0;34m+\u001b[0m\u001b[0;34m'*.trk'\u001b[0m\u001b[0;34m)\u001b[0m\u001b[0;34m[\u001b[0m\u001b[0;36m0\u001b[0m\u001b[0;34m]\u001b[0m\u001b[0;34m)\u001b[0m\u001b[0;34m\u001b[0m\u001b[0;34m\u001b[0m\u001b[0m\n\u001b[0m\u001b[1;32m     17\u001b[0m \u001b[0mlabels_control\u001b[0m\u001b[0;34m,\u001b[0m \u001b[0maffine_labels_control\u001b[0m \u001b[0;34m=\u001b[0m \u001b[0mload_nifti\u001b[0m\u001b[0;34m(\u001b[0m\u001b[0mglob\u001b[0m\u001b[0;34m.\u001b[0m\u001b[0mglob\u001b[0m\u001b[0;34m(\u001b[0m\u001b[0mmypath\u001b[0m\u001b[0;34m+\u001b[0m\u001b[0;34m'/labels/fa*'\u001b[0m\u001b[0;34m+\u001b[0m\u001b[0mcontrol\u001b[0m\u001b[0;34m+\u001b[0m\u001b[0;34m'*.nii.gz'\u001b[0m\u001b[0;34m)\u001b[0m\u001b[0;34m[\u001b[0m\u001b[0;36m0\u001b[0m\u001b[0;34m]\u001b[0m\u001b[0;34m)\u001b[0m\u001b[0;34m\u001b[0m\u001b[0;34m\u001b[0m\u001b[0m\n\u001b[1;32m     18\u001b[0m \u001b[0mfa_control\u001b[0m\u001b[0;34m,\u001b[0m \u001b[0maffine_fa_control\u001b[0m\u001b[0;34m=\u001b[0m \u001b[0mload_nifti\u001b[0m\u001b[0;34m(\u001b[0m\u001b[0mglob\u001b[0m\u001b[0;34m.\u001b[0m\u001b[0mglob\u001b[0m\u001b[0;34m(\u001b[0m\u001b[0mmypath\u001b[0m\u001b[0;34m+\u001b[0m\u001b[0;34m'/results/bmfa'\u001b[0m\u001b[0;34m+\u001b[0m\u001b[0mcontrol\u001b[0m\u001b[0;34m+\u001b[0m\u001b[0;34m'.nii.gz'\u001b[0m\u001b[0;34m)\u001b[0m\u001b[0;34m[\u001b[0m\u001b[0;36m0\u001b[0m\u001b[0;34m]\u001b[0m\u001b[0;34m)\u001b[0m\u001b[0;34m\u001b[0m\u001b[0;34m\u001b[0m\u001b[0m\n",
      "\u001b[0;31mIndexError\u001b[0m: list index out of range"
     ]
    }
   ],
   "source": [
    "#load the control animal\n",
    "control='N54900'\n",
    "stepsize=2\n",
    "#stepsize = 0.5, 2, etc\n",
    "if stepsize=='any':\n",
    "    stepsize=''\n",
    "else:\n",
    "    try:\n",
    "        stepsize=str(stepsize)\n",
    "        stepsize=stepsize.replace(\".\",\"_\")\n",
    "    except:\n",
    "        raise AttributeError(\"Unreadable stepsize\")\n",
    "        \n",
    "tractsize='small' \n",
    "checklinks(glob.glob(mypath+'/*/'))\n",
    "streams_control,hdr_control, _ = unload_trk(glob.glob(mypath+'/results/'+control+'*'+tractsize+'*'+stepsize+'*.trk')[0])\n",
    "labels_control, affine_labels_control = load_nifti(glob.glob(mypath+'/labels/fa*'+control+'*.nii.gz')[0])\n",
    "fa_control, affine_fa_control= load_nifti(glob.glob(mypath+'/results/bmfa'+control+'.nii.gz')[0])"
   ]
  },
  {
   "cell_type": "code",
   "execution_count": 16,
   "metadata": {},
   "outputs": [
    {
     "name": "stdout",
     "output_type": "stream",
     "text": [
      "Reference taken directly from file\n"
     ]
    }
   ],
   "source": [
    "#load the control animal\n",
    "streams_control,hdr_control, _ = unload_trk('/Users/alex/bass/testdata/results/N54900_bmCSA_detr_small_2.trk','same')\n",
    "labels_control, affine_labels_control = load_nifti('/Users/alex/code/Wenlin/data/wenlin_data/labels/fa_labels_warp_N54900_RAS.nii.gz') \n",
    "fa_control, affine_fa_control= load_nifti('/Users/alex/code/Wenlin/data/wenlin_results/bmfaN54900.nii.gz')"
   ]
  },
  {
   "cell_type": "code",
   "execution_count": 17,
   "metadata": {},
   "outputs": [],
   "source": [
    "#uncomment this cell to generate both left and right\n",
    "# labels_pair_control = copy.copy(labels_control)\n",
    "# nonz_control = np.nonzero(labels_pair_control)\n",
    "# for i in range(len(nonz_control[0])):\n",
    "#     if labels_pair_control[nonz_control[0][i], nonz_control[1][i], nonz_control[2][i]]>=1000:\n",
    "#         labels_pair_control[nonz_control[0][i], nonz_control[1][i], nonz_control[2][i]] -= 1000\n",
    "# print('pair labels generated')\n",
    "\n",
    "# #pair labels target control animals\n",
    "# streams_fix_control = lambda : (sl for sl in streams_control if len(sl)>1)\n",
    "# streamlines_control = Streamlines(streams_fix_control())\n",
    "# M_control, grouping_control = utils.connectivity_matrix(streamlines_control, labels_pair_control, \n",
    "#                                                         affine=affine_labels_control, return_mapping=True,\n",
    "#                                                         mapping_as_streamlines=True)\n",
    "\n",
    "# target_streamlines_control = grouping_control[target_l, target_r]"
   ]
  },
  {
   "cell_type": "code",
   "execution_count": 18,
   "metadata": {},
   "outputs": [],
   "source": [
    "#target control animals\n",
    "streams_fix_control = lambda : (sl for sl in streams_control if len(sl)>1)\n",
    "streamlines_control = Streamlines(streams_fix_control())\n",
    "M_control, grouping_control = utils.connectivity_matrix(streamlines_control, affine_labels_control, labels_control, \n",
    "                                                        return_mapping=True,\n",
    "                                                        mapping_as_streamlines=True)\n",
    "\n",
    "target_streamlines_control = grouping_control[target_l, target_r]"
   ]
  },
  {
   "cell_type": "code",
   "execution_count": 19,
   "metadata": {},
   "outputs": [
    {
     "name": "stdout",
     "output_type": "stream",
     "text": [
      "Control Nb. clusters: 75\n"
     ]
    }
   ],
   "source": [
    "#cluster control animals\n",
    "target_qb_control = QuickBundles(threshold=distance1,metric=metric1)\n",
    "target_clusters_control = target_qb_control.cluster(target_streamlines_control)\n",
    "print(\"Control Nb. clusters:\", len(target_clusters_control))"
   ]
  },
  {
   "cell_type": "code",
   "execution_count": 34,
   "metadata": {},
   "outputs": [
    {
     "name": "stdout",
     "output_type": "stream",
     "text": [
      "Group1 started\n",
      "Reference taken directly from file\n",
      "NO.1 N54859 Nb. streamlines: 94\n"
     ]
    },
    {
     "ename": "IndexError",
     "evalue": "list index out of range",
     "output_type": "error",
     "traceback": [
      "\u001b[0;31m---------------------------------------------------------------------------\u001b[0m",
      "\u001b[0;31mIndexError\u001b[0m                                Traceback (most recent call last)",
      "\u001b[0;32m<ipython-input-34-71e22be4210e>\u001b[0m in \u001b[0;36m<module>\u001b[0;34m\u001b[0m\n\u001b[1;32m     13\u001b[0m         \u001b[0msubject\u001b[0m \u001b[0;34m=\u001b[0m \u001b[0magegroup\u001b[0m\u001b[0;34m[\u001b[0m\u001b[0mj\u001b[0m\u001b[0;34m]\u001b[0m\u001b[0;34m\u001b[0m\u001b[0;34m\u001b[0m\u001b[0m\n\u001b[1;32m     14\u001b[0m         \u001b[0manimallist\u001b[0m\u001b[0;34m.\u001b[0m\u001b[0mappend\u001b[0m\u001b[0;34m(\u001b[0m\u001b[0msubject\u001b[0m\u001b[0;34m)\u001b[0m\u001b[0;34m\u001b[0m\u001b[0;34m\u001b[0m\u001b[0m\n\u001b[0;32m---> 15\u001b[0;31m         \u001b[0mstreams\u001b[0m\u001b[0;34m,\u001b[0m\u001b[0mhdr\u001b[0m\u001b[0;34m,\u001b[0m \u001b[0m_\u001b[0m \u001b[0;34m=\u001b[0m \u001b[0munload_trk\u001b[0m\u001b[0;34m(\u001b[0m\u001b[0mglob\u001b[0m\u001b[0;34m.\u001b[0m\u001b[0mglob\u001b[0m\u001b[0;34m(\u001b[0m\u001b[0mmypath\u001b[0m\u001b[0;34m+\u001b[0m\u001b[0;34m'/results/'\u001b[0m\u001b[0;34m+\u001b[0m\u001b[0msubject\u001b[0m\u001b[0;34m+\u001b[0m\u001b[0;34m'*'\u001b[0m\u001b[0;34m+\u001b[0m\u001b[0mtractsize\u001b[0m\u001b[0;34m+\u001b[0m\u001b[0;34m'*'\u001b[0m\u001b[0;34m+\u001b[0m\u001b[0mstepsize\u001b[0m\u001b[0;34m+\u001b[0m\u001b[0;34m'*.trk'\u001b[0m\u001b[0;34m)\u001b[0m\u001b[0;34m[\u001b[0m\u001b[0;36m0\u001b[0m\u001b[0;34m]\u001b[0m\u001b[0;34m)\u001b[0m\u001b[0;34m\u001b[0m\u001b[0;34m\u001b[0m\u001b[0m\n\u001b[0m\u001b[1;32m     16\u001b[0m         \u001b[0mlabels\u001b[0m\u001b[0;34m,\u001b[0m \u001b[0maffine_labels\u001b[0m \u001b[0;34m=\u001b[0m \u001b[0mload_nifti\u001b[0m\u001b[0;34m(\u001b[0m\u001b[0mglob\u001b[0m\u001b[0;34m.\u001b[0m\u001b[0mglob\u001b[0m\u001b[0;34m(\u001b[0m\u001b[0mmypath\u001b[0m\u001b[0;34m+\u001b[0m\u001b[0;34m'/labels/fa*'\u001b[0m\u001b[0;34m+\u001b[0m\u001b[0msubject\u001b[0m\u001b[0;34m+\u001b[0m\u001b[0;34m'*.nii.gz'\u001b[0m\u001b[0;34m)\u001b[0m\u001b[0;34m[\u001b[0m\u001b[0;36m0\u001b[0m\u001b[0;34m]\u001b[0m\u001b[0;34m)\u001b[0m\u001b[0;34m\u001b[0m\u001b[0;34m\u001b[0m\u001b[0m\n\u001b[1;32m     17\u001b[0m         \u001b[0mfa\u001b[0m\u001b[0;34m,\u001b[0m \u001b[0maffine_fa\u001b[0m\u001b[0;34m=\u001b[0m \u001b[0mload_nifti\u001b[0m\u001b[0;34m(\u001b[0m\u001b[0mglob\u001b[0m\u001b[0;34m.\u001b[0m\u001b[0mglob\u001b[0m\u001b[0;34m(\u001b[0m\u001b[0mmypath\u001b[0m\u001b[0;34m+\u001b[0m\u001b[0;34m'/results/bmfa'\u001b[0m\u001b[0;34m+\u001b[0m\u001b[0msubject\u001b[0m\u001b[0;34m+\u001b[0m\u001b[0;34m'.nii.gz'\u001b[0m\u001b[0;34m)\u001b[0m\u001b[0;34m[\u001b[0m\u001b[0;36m0\u001b[0m\u001b[0;34m]\u001b[0m\u001b[0;34m)\u001b[0m\u001b[0;34m\u001b[0m\u001b[0;34m\u001b[0m\u001b[0m\n",
      "\u001b[0;31mIndexError\u001b[0m: list index out of range"
     ]
    }
   ],
   "source": [
    "#group calculation\n",
    "numgroups=np.size(age,0)\n",
    "groupstreamlines = [[] for i in range(numgroups)]\n",
    "groupLinesFA = [[] for i in range(numgroups)]\n",
    "groupPointsFA = [[] for i in range(numgroups)]\n",
    "Nativegroupstreamlines = [[] for i in range(numgroups)]\n",
    "\n",
    "for k in range(numgroups):\n",
    "    agegroup = age[k]\n",
    "    animallist = []\n",
    "    print('Group'+str(k+1)+' started')\n",
    "    for j in range(len(agegroup)):\n",
    "        subject = agegroup[j]\n",
    "        animallist.append(subject)\n",
    "        streams,hdr, _ = unload_trk(glob.glob(mypath+'/results/'+subject+'*'+tractsize+'*'+stepsize+'*.trk')[0])\n",
    "        labels, affine_labels = load_nifti(glob.glob(mypath+'/labels/fa*'+subject+'*.nii.gz')[0])\n",
    "        fa, affine_fa= load_nifti(glob.glob(mypath+'/results/bmfa'+subject+'.nii.gz')[0])\n",
    "        #streams,hdr, _ = unload_trk(mypath+'/wenlin_results/'+subject+'_bmCSA_detr_small.trk')\n",
    "        #labels, affine_labels = load_nifti(mypath+'/wenlin_data/labels/fa_labels_warp_'+subject+'_RAS.nii.gz') \n",
    "        #fa, affine_fa= load_nifti('/Users/alex/code/Wenlin/data/wenlin_results/bmfa'+subject+'.nii.gz')        \n",
    "        \n",
    "        #target moving animals\n",
    "        streams_fix = lambda : (sl for sl in streams if len(sl)>1)\n",
    "        streamlines = Streamlines(streams_fix())\n",
    "        M, grouping = utils.connectivity_matrix(streamlines, affine_labels, labels, \n",
    "                                                return_mapping=True,mapping_as_streamlines=True)\n",
    "\n",
    "        target_streamlines_ = grouping[target_l, target_r]\n",
    "\n",
    "        target_streamlines = set_number_of_points(target_streamlines_, nb_points=num_points2)\n",
    "        \n",
    "        #first clustering for transform matrix\n",
    "        target_qb = QuickBundles(threshold=distance1,metric=metric1)\n",
    "        target_clusters = target_qb.cluster(target_streamlines)\n",
    "#         print('NO.'+str(j+1)+' '+runno+\" Nb. clusters:\", len(target_clusters))\n",
    "        \n",
    "        #attach fa information\n",
    "        native_target_streamlines = transform_streamlines(target_streamlines, np.linalg.inv(affine_fa))\n",
    "        stream_fa = []\n",
    "        stream_point_fa = []\n",
    "        for s in range(len(native_target_streamlines)):\n",
    "            point_fa = [fa[int(k[0]),int(k[1]),int(k[2])] for k in native_target_streamlines[s]]\n",
    "            stream_point_fa.append(point_fa)\n",
    "            stream_fa.append(np.mean(point_fa))\n",
    "        \n",
    "        #registration\n",
    "        srr = StreamlineLinearRegistration()\n",
    "        srm = srr.optimize(static=target_clusters_control.centroids, moving=target_clusters.centroids)\n",
    "        target_str_aligned = srm.transform(target_streamlines)\n",
    "        native_target_stream_aligned = transform_streamlines(target_str_aligned, np.linalg.inv(affine_fa))\n",
    "        \n",
    "        \n",
    "        groupstreamlines[k].extend(target_str_aligned)\n",
    "        Nativegroupstreamlines[k].extend(native_target_stream_aligned)\n",
    "        groupLinesFA[k].extend(stream_fa)\n",
    "        groupPointsFA[k].extend(stream_point_fa)\n",
    "        \n",
    "        print('NO.'+str(j+1)+' '+subject+\" Nb. streamlines:\", len(target_str_aligned))\n",
    "        \n",
    "    print('agetype-'+str(k+1)+' finished. '+'total number of clusters for group'+ str(k+1) \n",
    "          + ': {}'.format(len(groupstreamlines[k])))\n",
    "    print('animal list: ', animallist)\n",
    "    print(' ')\n",
    "        \n",
    "        "
   ]
  },
  {
   "cell_type": "code",
   "execution_count": null,
   "metadata": {},
   "outputs": [],
   "source": [
    "group1_qb = QuickBundles(threshold=distance2,metric=metric2)\n",
    "group1_clusters = group1_qb.cluster(groupstreamlines[0])\n",
    "group2_qb = QuickBundles(threshold=distance2,metric=metric2)\n",
    "group2_clusters = group2_qb.cluster(groupstreamlines[1])\n",
    "print(\"Young Group Nb. clusters:\", len(group1_clusters))\n",
    "print(\"Old Group Nb. clusters:\", len(group2_clusters))"
   ]
  },
  {
   "cell_type": "code",
   "execution_count": null,
   "metadata": {},
   "outputs": [],
   "source": [
    "#color by line-average fa\n",
    "\n",
    "group = 2\n",
    "\n",
    "name = 'Group_' + group_names[group-1]\n",
    "    \n",
    "cmap = actor.colormap_lookup_table(\n",
    "    scale_range=(np.min(groupLinesFA[group-1]), np.max(groupLinesFA[group-1])))\n",
    "\n",
    "renderer = window.Renderer()\n",
    "stream_actor = actor.line(Nativegroupstreamlines[group-1],np.array(groupLinesFA[group-1]),lookup_colormap=cmap)\n",
    "\n",
    "fa_actor = actor.slicer(fa_control, np.eye(4))\n",
    "renderer.add(stream_actor)\n",
    "renderer.add(fa_actor)\n",
    "bar = actor.scalar_bar(cmap)\n",
    "renderer.add(bar)\n",
    "# Uncomment the line below to show to display the window\n",
    "window.show(renderer, size=(600, 600), reset_camera=False)\n",
    "window.record(renderer,size=(600, 600),\n",
    "              out_path = outpath+'/'+str(target_l)+'--'+str(target_r)+name+' lineFA Viz.png')"
   ]
  },
  {
   "cell_type": "code",
   "execution_count": null,
   "metadata": {},
   "outputs": [],
   "source": [
    "##### color by points\n",
    "group = 1\n",
    "\n",
    "name = 'Group_' + group_names[group-1]\n",
    "\n",
    "cmap = actor.colormap_lookup_table(\n",
    "    scale_range=(np.min(groupLinesFA[group-1]), np.max(groupLinesFA[group-1])))\n",
    "\n",
    "renderer = window.Renderer()\n",
    "colors = []\n",
    "for s in range(len(Nativegroupstreamlines)):\n",
    "    stream = Nativegroupstreamlines[s]\n",
    "    for idx in range(len(stream)):\n",
    "        colors.append(groupPointsFA[s][idx])\n",
    "stream_actor = actor.line(Nativegroupstreamlines[group-1], colors, linewidth=0.2,lookup_colormap=cmap)\n",
    "\n",
    "renderer.add(stream_actor)\n",
    "fa_actor = actor.slicer(fa_control, np.eye(4))\n",
    "renderer.add(fa_actor)\n",
    "bar = actor.scalar_bar(cmap)\n",
    "renderer.add(bar)\n",
    "\n",
    "# Uncomment the line below to show to display the window\n",
    "window.show(renderer, size=(600, 600), reset_camera=False)\n",
    "window.record(renderer,size=(600, 600),\n",
    "              out_path = outpath+'/'+str(target_l)+'--'+str(target_r)+name+' PointFA Viz.png')"
   ]
  },
  {
   "cell_type": "code",
   "execution_count": null,
   "metadata": {},
   "outputs": [],
   "source": [
    "#viz a specific bundle with line FA \n",
    "\n",
    "group = 1\n",
    "bundle_id = 40\n",
    "\n",
    "if group == 1:\n",
    "    group_clusters = group1_clusters\n",
    "    groupLinesFA = groupLinesFA1\n",
    "    name = 'Group_Young-Bundle '+str(bundle_id)\n",
    "else:\n",
    "    group_clusters = group2_clusters\n",
    "    groupLinesFA = groupLinesFA2\n",
    "    name = 'Group_Old-Bundle '+str(bundle_id)\n",
    "\n",
    "k = group_clusters.clusters[bundle_id]\n",
    "bundle_fa = []\n",
    "for idx in k.indices:\n",
    "    bundle_fa.append(groupLinesFA[idx])\n",
    "\n",
    "#         cmap = actor.colormap_lookup_table(\n",
    "#         scale_range=(np.min(bundle_fa), np.max(bundle_fa)))\n",
    "cmap = actor.colormap_lookup_table(\n",
    "scale_range=(0.1, 0.5))\n",
    "\n",
    "#color by line-average fa\n",
    "renderer = window.Renderer()\n",
    "renderer.clear()\n",
    "renderer = window.Renderer()\n",
    "stream_actor3 = actor.line(group_clusters.clusters[bundle_id],np.array(bundle_fa),lookup_colormap=cmap)\n",
    "renderer.add(stream_actor3)\n",
    "bar = actor.scalar_bar(cmap)\n",
    "renderer.add(bar)\n",
    "# Uncomment the line below to show to display the window\n",
    "window.show(renderer, size=(600, 600), reset_camera=False)\n",
    "#window.record(renderer,size=(600, 600),\n",
    "              #out_path = outpath+'/'+str(target_l)+'--'+str(target_r)+name+' lineFA Viz.png')"
   ]
  },
  {
   "cell_type": "code",
   "execution_count": null,
   "metadata": {},
   "outputs": [],
   "source": [
    "#viz top bundle\n",
    "#swtich fa=0 to not show fa slice, switch to 1 to show fa slice\n",
    "np.random.seed(123)\n",
    "group = 1\n",
    "num_of_bundles =6\n",
    "\n",
    "if group == 1:\n",
    "    group_clusters = group1_clusters\n",
    "    groupLinesFA = groupLinesFA1\n",
    "    name = 'Group_Young-Bundle top '+str(num_of_bundles)\n",
    "else:\n",
    "    group_clusters = group2_clusters\n",
    "    groupLinesFA = groupLinesFA2\n",
    "    name = 'Group_Old-Bundle '+str(num_of_bundles)\n",
    "    \n",
    "top_idx = sorted(range(len(group_clusters.clusters_sizes())), key=lambda i: group_clusters.clusters_sizes()[i],\n",
    "             reverse=True)[:num_of_bundles]\n",
    "\n",
    "bundle_list = [group_clusters.clusters[idx] for idx in top_idx]\n",
    "color_list = [(np.random.randint(0, 255),np.random.randint(0, 255),np.random.randint(0, 255)) \n",
    "              for n in range(num_of_bundles)]\n",
    "color_list_dis_all = [window.colors.green,window.colors.yellow,\n",
    "                  window.colors.red,window.colors.brown,\n",
    "                  window.colors.orange,window.colors.blue]\n",
    "color_list_dis = [color_list_dis_all[i] for i in range(num_of_bundles)]\n",
    "if num_of_bundles <= 6:\n",
    "    colors = color_list_dis\n",
    "else:\n",
    "    colors = color_list\n",
    "    \n",
    "show_bundles(bundle_list,colors,fa = 0)"
   ]
  },
  {
   "cell_type": "code",
   "execution_count": null,
   "metadata": {},
   "outputs": [],
   "source": [
    "#viz top bundle with centroid\n",
    "np.random.seed(123)\n",
    "group = 2\n",
    "num_of_bundles =4\n",
    "\n",
    "if group == 1:\n",
    "    group_clusters = group1_clusters\n",
    "    groupLinesFA = groupLinesFA1\n",
    "    name = 'Group_Young-Bundle top '+str(num_of_bundles)\n",
    "else:\n",
    "    group_clusters = group2_clusters\n",
    "    groupLinesFA = groupLinesFA2\n",
    "    name = 'Group_Old-Bundle '+str(num_of_bundles)\n",
    "    \n",
    "top_idx = sorted(range(len(group_clusters.clusters_sizes())), key=lambda i: group_clusters.clusters_sizes()[i],\n",
    "             reverse=True)[:num_of_bundles]\n",
    "\n",
    "bundle_list = [group_clusters.centroids[idx] for idx in top_idx]\n",
    "color_list = [(np.random.randint(0, 255),np.random.randint(0, 255),np.random.randint(0, 255)) \n",
    "              for n in range(num_of_bundles)]\n",
    "color_list_dis_all = [window.colors.green,window.colors.yellow,\n",
    "                  window.colors.red,window.colors.brown,\n",
    "                  window.colors.orange,window.colors.blue]\n",
    "color_list_dis = [color_list_dis_all[i] for i in range(num_of_bundles)]\n",
    "\n",
    "if num_of_bundles <= 6:\n",
    "    colors = color_list_dis\n",
    "else:\n",
    "    colors = color_list\n",
    "    \n",
    "show_bundles(bundle_list,colors,str_tube=True,fa = 0)"
   ]
  },
  {
   "cell_type": "code",
   "execution_count": null,
   "metadata": {},
   "outputs": [],
   "source": [
    "#viz top bundle with centroid and bundles\n",
    "np.random.seed(123)\n",
    "group = 2\n",
    "num_of_bundles =6\n",
    "\n",
    "if group == 1:\n",
    "    group_clusters = group1_clusters\n",
    "    groupLinesFA = groupLinesFA1\n",
    "    name = 'Group_Young-Bundle top '+str(num_of_bundles)\n",
    "else:\n",
    "    group_clusters = group2_clusters\n",
    "    groupLinesFA = groupLinesFA2\n",
    "    name = 'Group_Old-Bundle '+str(num_of_bundles)\n",
    "\n",
    "top_idx = sorted(range(len(group_clusters.clusters_sizes())), key=lambda i: group_clusters.clusters_sizes()[i],\n",
    "             reverse=True)[:num_of_bundles]\n",
    "\n",
    "color_list = [(np.random.randint(0, 255),np.random.randint(0, 255),np.random.randint(0, 255)) \n",
    "              for n in range(num_of_bundles)]\n",
    "color_list_dis_all = [window.colors.green,window.colors.yellow,\n",
    "                  window.colors.red,window.colors.brown,\n",
    "                  window.colors.orange,window.colors.blue]\n",
    "color_list_dis = [color_list_dis_all[i] for i in range(num_of_bundles)]\n",
    "\n",
    "if num_of_bundles <= 6:\n",
    "    colors = color_list_dis\n",
    "else:\n",
    "    colors = color_list\n",
    "\n",
    "fa, affine_fa= load_nifti('/Users/alex/code/Wenlin/data/wenlin_results/bmfaN54900.nii.gz')\n",
    "fa_actor = actor.slicer(fa, affine_fa)\n",
    "\n",
    "        \n",
    "bundle_list_center = [group_clusters.centroids[idx] for idx in top_idx]\n",
    "bundle_list = [group_clusters.clusters[idx] for idx in top_idx]\n",
    "ren = window.Renderer()\n",
    "ren.SetBackground(1., 1, 1)\n",
    "\n",
    "bundle_actor = actor.streamtube(bundle_list_center, colors, linewidth=0.1)\n",
    "\n",
    "\n",
    "for (i, bundle) in enumerate(bundle_list):\n",
    "    color = colors[i]\n",
    "    lines_actor = actor.line(bundle, color,opacity=0.9)\n",
    "    ren.add(lines_actor)\n",
    "    \n",
    "ren.add(bundle_actor) \n",
    "#uncomment this to show fa\n",
    "#ren.add(fa_actor)\n",
    "window.show(ren)        "
   ]
  },
  {
   "cell_type": "code",
   "execution_count": null,
   "metadata": {},
   "outputs": [],
   "source": [
    "num_of_bundles = 20\n",
    "top_idx_group1 = sorted(range(len(group1_clusters.clusters_sizes())),\n",
    "                        key=lambda i: group1_clusters.clusters_sizes()[i],reverse=True)[:num_of_bundles]\n",
    "top_idx_group2 = sorted(range(len(group2_clusters.clusters_sizes())),\n",
    "                        key=lambda i: group2_clusters.clusters_sizes()[i],reverse=True)[:num_of_bundles]"
   ]
  },
  {
   "cell_type": "code",
   "execution_count": null,
   "metadata": {},
   "outputs": [],
   "source": [
    "bundle_group1 = [group1_clusters.centroids[idx] for idx in top_idx_group1]\n",
    "bundle_group2 = [group2_clusters.centroids[idx] for idx in top_idx_group2]"
   ]
  },
  {
   "cell_type": "code",
   "execution_count": null,
   "metadata": {},
   "outputs": [],
   "source": [
    "from dipy.segment.metric import ResampleFeature, AveragePointwiseEuclideanMetric,mdf\n",
    "dist_all = np.zeros((num_of_bundles,num_of_bundles))\n",
    "for g1 in range(len(bundle_group1)):\n",
    "    for g2 in range(len(bundle_group2)):\n",
    "        id1 = top_idx_group1[g1]\n",
    "        id2 = top_idx_group2[g2]\n",
    "        dist_all[g1,g2] = (mdf(group1_clusters.centroids[id1],group2_clusters.centroids[id2]))"
   ]
  },
  {
   "cell_type": "code",
   "execution_count": null,
   "metadata": {},
   "outputs": [],
   "source": [
    "import copy\n",
    "dist_all_fix = copy.copy(dist_all)\n",
    "dist_all_idx = []\n",
    "for i in range(len(bundle_group1)):\n",
    "        idx = np.argmin(dist_all_fix[i,:])\n",
    "        dist_all_idx.append([i,idx])\n",
    "        dist_all_fix[:,idx] = 100000\n",
    "#dist_all_idx\n",
    "\n",
    "dist_group1_idx = [dist_all_idx[iii][0] for iii in range(num_of_bundles)]#size id\n",
    "dist_group2_idx = [dist_all_idx[iii][1] for iii in range(num_of_bundles)]#size id\n",
    "\n",
    "correspond_bundle_id = [] #bundle id\n",
    "for i in range(6):\n",
    "    correspond_bundle_id.append([top_idx_group1[dist_all_idx[i][0]],top_idx_group2[dist_all_idx[i][1]]])\n",
    "    print(str(top_idx_group1[dist_all_idx[i][0]])+'--'+str(top_idx_group2[dist_all_idx[i][1]]))"
   ]
  },
  {
   "cell_type": "code",
   "execution_count": null,
   "metadata": {},
   "outputs": [],
   "source": [
    "group1List = [top_idx_group1[dist_all_idx[i][0]] for i in range(6)]\n",
    "group2List = [top_idx_group2[dist_all_idx[i][1]] for i in range(6)]\n",
    "print(group1List)\n",
    "print(group2List)\n",
    "print(correspond_bundle_id)"
   ]
  },
  {
   "cell_type": "code",
   "execution_count": null,
   "metadata": {},
   "outputs": [],
   "source": [
    "#viz bundle for loop\n",
    "num_of_top_bundle = 6\n",
    "group1List = [top_idx_group1[dist_all_idx[i][0]] for i in range(6)]\n",
    "group2List = [top_idx_group2[dist_all_idx[i][1]] for i in range(6)]\n",
    "groupList = [[],group1List,group2List]\n",
    "for groupidx in [1,2]:\n",
    "    for num in groupList[groupidx]:   #[0,2,6,3,8,1] for group2\n",
    "        cor_id = groupList[groupidx].index(num)\n",
    "        group = groupidx\n",
    "        bundle_id = num\n",
    "\n",
    "        if group == 1:\n",
    "            group_clusters = group1_clusters\n",
    "            groupLinesFA = groupLinesFA1\n",
    "            groupPointsFA = groupPointsFA1\n",
    "            name = 'Group_Young-Bundle_'+str(bundle_id)+'_corID'+str(cor_id)\n",
    "        if group == 2:\n",
    "            group_clusters = group2_clusters\n",
    "            groupLinesFA = groupLinesFA2\n",
    "            groupPointsFA = groupPointsFA2\n",
    "            name = 'Group_Old-Bundle_'+str(bundle_id)+'_corID'+str(cor_id)\n",
    "\n",
    "        bundle_point_fa = []\n",
    "        bundle_fa = []\n",
    "        k = group_clusters.clusters[bundle_id]\n",
    "        for idx in k.indices:\n",
    "            bundle_fa.append(groupLinesFA[idx])\n",
    "            for idx_point in range(len(groupPointsFA[idx])):\n",
    "                bundle_point_fa.append(groupPointsFA[idx][idx_point])\n",
    "\n",
    "\n",
    "#         cmap = actor.colormap_lookup_table(\n",
    "#         scale_range=(np.min(bundle_fa), np.max(bundle_fa)))\n",
    "        cmap = actor.colormap_lookup_table(\n",
    "        scale_range=(0.1, 0.6))\n",
    "\n",
    "        #color by line-average fa\n",
    "        renderer = window.Renderer()\n",
    "        renderer.clear()\n",
    "        renderer = window.Renderer()\n",
    "#         stream_actor3 = actor.line(group_clusters.clusters[bundle_id],np.array(bundle_fa),lookup_colormap=cmap)\n",
    "        stream_actor3 = actor.line(group_clusters.clusters[bundle_id],\n",
    "                                   np.array(bundle_point_fa),lookup_colormap=cmap)\n",
    "        renderer.add(stream_actor3)\n",
    "        bar = actor.scalar_bar(cmap)\n",
    "        renderer.add(bar)\n",
    "        # Uncomment the line below to show to display the window\n",
    "        #window.show(renderer, size=(600, 600), reset_camera=False)\n",
    "        window.record(renderer,size=(600, 600),\n",
    "                      out_path = outpath+'/'+str(target_l)+'--'+str(target_r)+name+' PointFA Viz.png')"
   ]
  },
  {
   "cell_type": "code",
   "execution_count": null,
   "metadata": {},
   "outputs": [],
   "source": [
    "group1csv = np.zeros((1,6))\n",
    "for i in range(6):\n",
    "    idsize = dist_group1_idx[i]\n",
    "    idbundle = group1List[i]\n",
    "    fa = []\n",
    "    for s in group1_clusters.clusters[idbundle].indices:\n",
    "            temp = np.hstack((idsize*np.ones((num_points2,1)),\n",
    "                              idbundle*np.ones((num_points2,1)),\n",
    "                              s*np.ones((num_points2,1)),\n",
    "                              np.array(range(num_points2)).reshape(num_points2,1),\n",
    "                              np.array(groupPointsFA1[s]).reshape(num_points2,1),\n",
    "                             list(utils.length([groupstreamlines1[s]]))*np.ones((num_points2,1))))\n",
    "            group1csv = np.vstack((group1csv,temp))\n",
    "group1csv = group1csv[1:,:]\n",
    "group1csvDF = pd.DataFrame(group1csv)\n",
    "group1csvDF.rename(index=str, columns={0:\"Bundle Size Rank\",1:\"Bundle ID\",2:\"Steamlines ID\",\n",
    "                                       3:\"Point ID\", 4:\"FA\", 5:\"length\"})\n",
    "group1csvDF.to_csv(outpath+'/'+str(target_l)+'--'+str(target_r)+'group1FA.csv'\n",
    "                   ,header = [\"Bundle Size Rank\",\"Bundle ID\",\"Streamlines ID\",\n",
    "                                                     \"Point ID\", \"FA\",\"Length\"])"
   ]
  },
  {
   "cell_type": "code",
   "execution_count": null,
   "metadata": {},
   "outputs": [],
   "source": [
    "group2csv = np.zeros((1,6))\n",
    "for i in range(6):\n",
    "    idsize = dist_group2_idx[i]\n",
    "    idbundle = group2List[i]\n",
    "    fa = []\n",
    "    for s in group2_clusters.clusters[idbundle].indices:\n",
    "            temp = np.hstack((idsize*np.ones((num_points2,1)),\n",
    "                              idbundle*np.ones((num_points2,1)),\n",
    "                              s*np.ones((num_points2,1)),\n",
    "                              np.array(range(num_points2)).reshape(num_points2,1),\n",
    "                              np.array(groupPointsFA2[s]).reshape(num_points2,1),\n",
    "                             list(utils.length([groupstreamlines2[s]]))*np.ones((num_points2,1))))\n",
    "            group2csv = np.vstack((group2csv,temp))\n",
    "group2csv = group2csv[1:,:]  \n",
    "group2csvDF = pd.DataFrame(group2csv)\n",
    "group2csvDF.rename(index=str, columns={0:\"Bundle Size Rank\",1:\"Bundle ID\",2:\"Steamlines ID\",\n",
    "                                       3:\"Point ID\", 4:\"FA\", 5:\"length\"})\n",
    "group2csvDF.to_csv(outpath+'/'+str(target_l)+'--'+str(target_r)+'group2FA.csv'\n",
    "                   ,header = [\"Bundle Size Rank\",\"Bundle ID\",\"Streamlines ID\",\n",
    "                                                     \"Point ID\", \"FA\",\"Length\"])"
   ]
  },
  {
   "cell_type": "code",
   "execution_count": null,
   "metadata": {},
   "outputs": [],
   "source": [
    "#before alignment - centroids for moving and reference\n",
    "show_bundles([target_clusters_control.centroids,target_clusters.centroids],\n",
    "             colors = [window.colors.orange,window.colors.green])"
   ]
  },
  {
   "cell_type": "code",
   "execution_count": null,
   "metadata": {},
   "outputs": [],
   "source": [
    "#after alignment - centroids for moving and reference\n",
    "show_bundles([target_clusters_control.centroids,target_str_aligned],\n",
    "             colors = [window.colors.orange,window.colors.green])"
   ]
  },
  {
   "cell_type": "code",
   "execution_count": null,
   "metadata": {},
   "outputs": [],
   "source": []
  }
 ],
 "metadata": {
  "anaconda-cloud": {},
  "kernelspec": {
   "display_name": "Python 3",
   "language": "python",
   "name": "python3"
  },
  "language_info": {
   "codemirror_mode": {
    "name": "ipython",
    "version": 3
   },
   "file_extension": ".py",
   "mimetype": "text/x-python",
   "name": "python",
   "nbconvert_exporter": "python",
   "pygments_lexer": "ipython3",
   "version": "3.7.4"
  }
 },
 "nbformat": 4,
 "nbformat_minor": 1
}
